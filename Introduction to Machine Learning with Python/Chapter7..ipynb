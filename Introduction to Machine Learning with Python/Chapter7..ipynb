{
 "cells": [
  {
   "cell_type": "markdown",
   "metadata": {},
   "source": [
    "# Chapter7. "
   ]
  },
  {
   "cell_type": "code",
   "execution_count": 1,
   "metadata": {},
   "outputs": [],
   "source": [
    "from IPython.display import display\n",
    "import numpy as np\n",
    "import pandas as pd\n",
    "import matplotlib.pyplot as plt\n",
    "import mglearn\n",
    "\n",
    "%matplotlib inline"
   ]
  },
  {
   "cell_type": "code",
   "execution_count": 2,
   "metadata": {},
   "outputs": [],
   "source": [
    "from sklearn.datasets import make_blobs\n",
    "from sklearn.linear_model import LogisticRegression\n",
    "from sklearn.model_selection import train_test_split"
   ]
  },
  {
   "cell_type": "code",
   "execution_count": 3,
   "metadata": {},
   "outputs": [],
   "source": [
    "# 경고 메세지 제거\n",
    "import warnings\n",
    "warnings.filterwarnings('ignore')\n",
    "warnings.filterwarnings('ignore', 'This pattern has match groups')\n",
    "warnings.filterwarnings('ignore', 'The iterable function was deprecated in Matplotlib')"
   ]
  },
  {
   "cell_type": "markdown",
   "metadata": {},
   "source": [
    "----------------------------"
   ]
  },
  {
   "cell_type": "code",
   "execution_count": 4,
   "metadata": {},
   "outputs": [
    {
     "name": "stdout",
     "output_type": "stream",
     "text": [
      "text_train의 타입: <class 'list'>\n",
      "text_train의 길이: 25000\n",
      "text_train[6]:\n",
      " b\"This movie has a special way of telling the story, at first i found it rather odd as it jumped through time and I had no idea whats happening.<br /><br />Anyway the story line was although simple, but still very real and touching. You met someone the first time, you fell in love completely, but broke up at last and promoted a deadly agony. Who hasn't go through this? but we will never forget this kind of pain in our life. <br /><br />I would say i am rather touched as two actor has shown great performance in showing the love between the characters. I just wish that the story could be a happy ending.\"\n"
     ]
    }
   ],
   "source": [
    "from sklearn.datasets import load_files\n",
    "\n",
    "reviews_train = load_files(\"data/ACLIMDB/train/\")\n",
    "# 텍스트와 레이블을 포함하고 있는 Bunch 오브젝트를 반환합니다.\n",
    "text_train, y_train = reviews_train.data, reviews_train.target\n",
    "print(\"text_train의 타입:\", type(text_train))\n",
    "print(\"text_train의 길이:\", len(text_train))\n",
    "print(\"text_train[6]:\\n\", text_train[6])"
   ]
  },
  {
   "cell_type": "code",
   "execution_count": 5,
   "metadata": {},
   "outputs": [],
   "source": [
    "#  줄바꿈 테그 <br /> 제거.\n",
    "text_train = [doc.replace(b'<br />', b' ') for doc in text_train ]"
   ]
  },
  {
   "cell_type": "code",
   "execution_count": 6,
   "metadata": {},
   "outputs": [
    {
     "name": "stdout",
     "output_type": "stream",
     "text": [
      "text_train[6]:\n",
      " b\"This movie has a special way of telling the story, at first i found it rather odd as it jumped through time and I had no idea whats happening.  Anyway the story line was although simple, but still very real and touching. You met someone the first time, you fell in love completely, but broke up at last and promoted a deadly agony. Who hasn't go through this? but we will never forget this kind of pain in our life.   I would say i am rather touched as two actor has shown great performance in showing the love between the characters. I just wish that the story could be a happy ending.\"\n"
     ]
    }
   ],
   "source": [
    "print(\"text_train[6]:\\n\", text_train[6])"
   ]
  },
  {
   "cell_type": "code",
   "execution_count": 7,
   "metadata": {},
   "outputs": [
    {
     "name": "stdout",
     "output_type": "stream",
     "text": [
      "클래스별 샘플 수 (훈련 데이터) :  [12500 12500]\n"
     ]
    }
   ],
   "source": [
    "print('클래스별 샘플 수 (훈련 데이터) : ', np.bincount(y_train))"
   ]
  },
  {
   "cell_type": "code",
   "execution_count": 8,
   "metadata": {},
   "outputs": [
    {
     "data": {
      "text/plain": [
       "(25000,)"
      ]
     },
     "execution_count": 8,
     "metadata": {},
     "output_type": "execute_result"
    }
   ],
   "source": [
    "y_train.shape"
   ]
  },
  {
   "cell_type": "code",
   "execution_count": 9,
   "metadata": {},
   "outputs": [
    {
     "name": "stdout",
     "output_type": "stream",
     "text": [
      "text_test의 타입: <class 'list'>\n",
      "text_test의 길이: 25000\n",
      "클래스별 샘플 수 (훈련 데이터) :  [12500 12500]\n"
     ]
    }
   ],
   "source": [
    "reviews_test = load_files(\"data/ACLIMDB/test/\")\n",
    "# 텍스트와 레이블을 포함하고 있는 Bunch 오브젝트를 반환합니다.\n",
    "text_test, y_test = reviews_test.data, reviews_test.target\n",
    "print(\"text_test의 타입:\", type(text_test))\n",
    "print(\"text_test의 길이:\", len(text_test))\n",
    "print('클래스별 샘플 수 (훈련 데이터) : ', np.bincount(y_test))\n",
    "text_test = [doc.replace(b'<br />', b' ') for doc in text_test ]"
   ]
  },
  {
   "cell_type": "markdown",
   "metadata": {},
   "source": [
    "# 7.3.1 샘플 데이터에 BOW 적용하기"
   ]
  },
  {
   "cell_type": "code",
   "execution_count": 26,
   "metadata": {},
   "outputs": [],
   "source": [
    "bards_words =[\"The fool doth think he is wise,\",\n",
    "              \"but the wise man knows himself to be a fool\"]"
   ]
  },
  {
   "cell_type": "code",
   "execution_count": 27,
   "metadata": {},
   "outputs": [],
   "source": [
    "from sklearn.feature_extraction.text import CountVectorizer"
   ]
  },
  {
   "cell_type": "code",
   "execution_count": 29,
   "metadata": {},
   "outputs": [
    {
     "data": {
      "text/plain": [
       "CountVectorizer()"
      ]
     },
     "execution_count": 29,
     "metadata": {},
     "output_type": "execute_result"
    }
   ],
   "source": [
    "vect = CountVectorizer()\n",
    "vect.fit(bards_words)"
   ]
  },
  {
   "cell_type": "code",
   "execution_count": 32,
   "metadata": {},
   "outputs": [
    {
     "name": "stdout",
     "output_type": "stream",
     "text": [
      "어휘 사전의 크기 :  13\n",
      "어휘 사전의 내용 \n",
      " {'the': 9, 'fool': 3, 'doth': 2, 'think': 10, 'he': 4, 'is': 6, 'wise': 12, 'but': 1, 'man': 8, 'knows': 7, 'himself': 5, 'to': 11, 'be': 0}\n"
     ]
    }
   ],
   "source": [
    "print('어휘 사전의 크기 : ', len(vect.vocabulary_))\n",
    "print('어휘 사전의 내용 \\n', vect.vocabulary_)"
   ]
  },
  {
   "cell_type": "code",
   "execution_count": 35,
   "metadata": {},
   "outputs": [
    {
     "name": "stdout",
     "output_type": "stream",
     "text": [
      "BOW :  <2x13 sparse matrix of type '<class 'numpy.int64'>'\n",
      "\twith 16 stored elements in Compressed Sparse Row format>\n"
     ]
    }
   ],
   "source": [
    "bag_of_words = vect.transform(bards_words)\n",
    "print('BOW : ', repr(bag_of_words))"
   ]
  },
  {
   "cell_type": "code",
   "execution_count": 36,
   "metadata": {},
   "outputs": [
    {
     "name": "stdout",
     "output_type": "stream",
     "text": [
      "BOW의 밀집 표현 : \n",
      " [[0 0 1 1 1 0 1 0 0 1 1 0 1]\n",
      " [1 1 0 1 0 1 0 1 1 1 0 1 1]]\n"
     ]
    }
   ],
   "source": [
    "print('BOW의 밀집 표현 : \\n', bag_of_words.toarray())"
   ]
  },
  {
   "cell_type": "markdown",
   "metadata": {},
   "source": [
    "# 7.3.2 영화 리뷰에 대한 BOW"
   ]
  },
  {
   "cell_type": "code",
   "execution_count": 38,
   "metadata": {},
   "outputs": [
    {
     "name": "stdout",
     "output_type": "stream",
     "text": [
      "X_train : \n",
      " <25000x74849 sparse matrix of type '<class 'numpy.int64'>'\n",
      "\twith 3431196 stored elements in Compressed Sparse Row format>\n"
     ]
    }
   ],
   "source": [
    "vect = CountVectorizer().fit(text_train)\n",
    "X_train = vect.transform(text_train)\n",
    "\n",
    "print('X_train : \\n', repr(X_train))"
   ]
  },
  {
   "cell_type": "code",
   "execution_count": 42,
   "metadata": {},
   "outputs": [
    {
     "name": "stdout",
     "output_type": "stream",
     "text": [
      "특성 개수 :  74849\n",
      "처음 20개 특성 : \n",
      " ['00', '000', '0000000000001', '00001', '00015', '000s', '001', '003830', '006', '007', '0079', '0080', '0083', '0093638', '00am', '00pm', '00s', '01', '01pm', '02']\n",
      "20010에서 20030까지 특성 : \n",
      " ['dratted', 'draub', 'draught', 'draughts', 'draughtswoman', 'draw', 'drawback', 'drawbacks', 'drawer', 'drawers', 'drawing', 'drawings', 'drawl', 'drawled', 'drawling', 'drawn', 'draws', 'draza', 'dre', 'drea']\n",
      "매 2000번째 특성 : \n",
      " ['00', 'aesir', 'aquarian', 'barking', 'blustering', 'bête', 'chicanery', 'condensing', 'cunning', 'detox', 'draper', 'enshrined', 'favorit', 'freezer', 'goldman', 'hasan', 'huitieme', 'intelligible', 'kantrowitz', 'lawful', 'maars', 'megalunged', 'mostey', 'norrland', 'padilla', 'pincher', 'promisingly', 'receptionist', 'rivals', 'schnaas', 'shunning', 'sparse', 'subset', 'temptations', 'treatises', 'unproven', 'walkman', 'xylophonist']\n"
     ]
    }
   ],
   "source": [
    "feature_names = vect.get_feature_names()\n",
    "print('특성 개수 : ', len(feature_names))\n",
    "print('처음 20개 특성 : \\n', feature_names[:20])\n",
    "print('20010에서 20030까지 특성 : \\n', feature_names[20010:20030])\n",
    "print('매 2000번째 특성 : \\n', feature_names[::2000])"
   ]
  },
  {
   "cell_type": "code",
   "execution_count": 46,
   "metadata": {},
   "outputs": [
    {
     "name": "stdout",
     "output_type": "stream",
     "text": [
      "교차 검증 평균 점수 : 0.88\n"
     ]
    }
   ],
   "source": [
    "from sklearn.model_selection import cross_val_score\n",
    "from sklearn.linear_model import LogisticRegression\n",
    "\n",
    "scores = cross_val_score(LogisticRegression(), X_train, y_train, cv=5)\n",
    "print('교차 검증 평균 점수 : {:.2f}'.format(np.mean(scores)))"
   ]
  },
  {
   "cell_type": "code",
   "execution_count": 47,
   "metadata": {},
   "outputs": [
    {
     "data": {
      "text/plain": [
       "array([0.8834, 0.8756, 0.886 , 0.8894, 0.8752])"
      ]
     },
     "execution_count": 47,
     "metadata": {},
     "output_type": "execute_result"
    }
   ],
   "source": [
    "scores"
   ]
  },
  {
   "cell_type": "code",
   "execution_count": 54,
   "metadata": {},
   "outputs": [
    {
     "name": "stdout",
     "output_type": "stream",
     "text": [
      "최상의 교차 검증 점수 : 0.89\n",
      "최적의 매개변수 :  {'C': 0.1}\n"
     ]
    }
   ],
   "source": [
    "from sklearn.model_selection import GridSearchCV\n",
    "\n",
    "param_grid = {'C' : [0.001, 0.01, 0.1, 1, 10]}\n",
    "grid = GridSearchCV(LogisticRegression(), param_grid, cv=5)\n",
    "grid.fit(X_train, y_train)\n",
    "print('최상의 교차 검증 점수 : {:.2f}'.format(grid.best_score_))\n",
    "print('최적의 매개변수 : ', grid.best_params_)"
   ]
  },
  {
   "cell_type": "code",
   "execution_count": 56,
   "metadata": {},
   "outputs": [
    {
     "name": "stdout",
     "output_type": "stream",
     "text": [
      "테스트 점수 : 0.88\n"
     ]
    }
   ],
   "source": [
    "X_test = vect.transform(text_test)\n",
    "print('테스트 점수 : {:.2f}'.format(grid.score(X_test, y_test)))"
   ]
  },
  {
   "cell_type": "code",
   "execution_count": 57,
   "metadata": {},
   "outputs": [],
   "source": [
    "vect = CountVectorizer(min_df=5).fit(text_train)"
   ]
  },
  {
   "cell_type": "code",
   "execution_count": 58,
   "metadata": {},
   "outputs": [
    {
     "name": "stdout",
     "output_type": "stream",
     "text": [
      "특성 개수 :  27271\n",
      "처음 50개 특성 : \n",
      " ['00', '000', '007', '00s', '01', '02', '03', '04', '05', '06', '07', '08', '09', '10', '100', '1000', '100th', '101', '102', '103', '104', '105', '107', '108', '10s', '10th', '11', '110', '112', '116', '117', '11th', '12', '120', '12th', '13', '135', '13th', '14', '140', '14th', '15', '150', '15th', '16', '160', '1600', '16mm', '16s', '16th']\n",
      "20010에서 20030까지 특성 : \n",
      " ['repentance', 'repercussions', 'repertoire', 'repetition', 'repetitions', 'repetitious', 'repetitive', 'rephrase', 'replace', 'replaced', 'replacement', 'replaces', 'replacing', 'replay', 'replayable', 'replayed', 'replaying', 'replays', 'replete', 'replica']\n",
      "매 2000번째 특성 : \n",
      " ['00', 'affections', 'appropriately', 'barbra', 'blurbs', 'butchered', 'cheese', 'commitment', 'courts', 'deconstructed', 'disgraceful', 'dvds', 'eschews', 'fell', 'freezer', 'goriest', 'hauser', 'hungary', 'insinuate', 'juggle', 'leering', 'maelstrom', 'messiah', 'music', 'occasional', 'parking', 'pleasantville', 'pronunciation', 'recipient', 'reviews', 'sas', 'shea', 'sneers', 'steiger', 'swastika', 'thrusting', 'tvs', 'vampyre', 'westerns']\n"
     ]
    }
   ],
   "source": [
    "feature_names = vect.get_feature_names()\n",
    "\n",
    "print('특성 개수 : ', len(feature_names))\n",
    "print('처음 50개 특성 : \\n', feature_names[:50])\n",
    "print('20010에서 20030까지 특성 : \\n', feature_names[20010:20030])\n",
    "print('매 2000번째 특성 : \\n', feature_names[::700])"
   ]
  },
  {
   "cell_type": "markdown",
   "metadata": {},
   "source": [
    "27271개로 토큰의 수가 크게 감소함"
   ]
  },
  {
   "cell_type": "code",
   "execution_count": 62,
   "metadata": {},
   "outputs": [
    {
     "name": "stdout",
     "output_type": "stream",
     "text": [
      "최적의 교차 검증 점수 : 0.89\n"
     ]
    }
   ],
   "source": [
    "grid = GridSearchCV(LogisticRegression(), param_grid, cv=5)\n",
    "grid.fit(X_train, y_train)\n",
    "print('최적의 교차 검증 점수 : {:.2f}'.format(grid.best_score_))"
   ]
  },
  {
   "cell_type": "markdown",
   "metadata": {},
   "source": [
    "# 7.4 불용어"
   ]
  },
  {
   "cell_type": "code",
   "execution_count": 63,
   "metadata": {},
   "outputs": [
    {
     "name": "stdout",
     "output_type": "stream",
     "text": [
      "불용어 개수 :  318\n",
      "매 10번째 불용어 : \n",
      " ['etc', 'by', 'only', 'put', 'itself', 'via', 'of', 'eight', 'during', 'when', 'over', 'thereupon', 'i', 'an', 'others', 'less', 'can', 'neither', 'under', 'six', 'always', 'cannot', 'to', 'around', 'amongst', 'bill', 'however', 'fifteen', 'the', 'both', 'my', 'myself']\n"
     ]
    }
   ],
   "source": [
    "from sklearn.feature_extraction.text import ENGLISH_STOP_WORDS\n",
    "print('불용어 개수 : ', len(ENGLISH_STOP_WORDS))\n",
    "print('매 10번째 불용어 : \\n', list(ENGLISH_STOP_WORDS)[::10])"
   ]
  },
  {
   "cell_type": "code",
   "execution_count": 65,
   "metadata": {},
   "outputs": [
    {
     "name": "stdout",
     "output_type": "stream",
     "text": [
      "불용어가 제거된 X_train : \n",
      " <25000x26966 sparse matrix of type '<class 'numpy.int64'>'\n",
      "\twith 2149958 stored elements in Compressed Sparse Row format>\n"
     ]
    }
   ],
   "source": [
    "vect = CountVectorizer(min_df=5, stop_words='english').fit(text_train)\n",
    "X_train = vect.transform((text_train))\n",
    "print('불용어가 제거된 X_train : \\n', repr(X_train))"
   ]
  },
  {
   "cell_type": "code",
   "execution_count": 66,
   "metadata": {},
   "outputs": [
    {
     "name": "stdout",
     "output_type": "stream",
     "text": [
      "최상의 교차 검증 점수 : 0.88\n"
     ]
    }
   ],
   "source": [
    "grid = GridSearchCV(LogisticRegression(), param_grid, cv=5)\n",
    "grid.fit(X_train, y_train)\n",
    "print('최상의 교차 검증 점수 : {:.2f}'.format(grid.best_score_))"
   ]
  },
  {
   "cell_type": "code",
   "execution_count": 69,
   "metadata": {},
   "outputs": [
    {
     "name": "stdout",
     "output_type": "stream",
     "text": [
      "최상의 교차 검증 점수 : 0.89\n"
     ]
    }
   ],
   "source": [
    "from sklearn.feature_extraction.text import TfidfVectorizer\n",
    "from sklearn.pipeline import make_pipeline\n",
    "\n",
    "pipe = make_pipeline(TfidfVectorizer(min_df=5), LogisticRegression())\n",
    "param_grid = {'logisticregression__C' : [0.001, 0.01, 0.1, 1, 10]}\n",
    "\n",
    "grid = GridSearchCV(pipe, param_grid, cv=5)\n",
    "grid.fit(text_train, y_train)\n",
    "print('최상의 교차 검증 점수 : {:.2f}'.format(grid.best_score_))"
   ]
  },
  {
   "cell_type": "code",
   "execution_count": 72,
   "metadata": {},
   "outputs": [
    {
     "name": "stdout",
     "output_type": "stream",
     "text": [
      "가장 낮은 tfidf를 가진 특성 : \n",
      " ['suplexes' 'gauche' 'hypocrites' 'oncoming' 'songwriting' 'galadriel'\n",
      " 'emerald' 'mclaughlin' 'sylvain' 'oversee' 'cataclysmic' 'pressuring'\n",
      " 'uphold' 'thieving' 'inconsiderate' 'ware' 'denim' 'reverting' 'booed'\n",
      " 'spacious']\n",
      "가장 높은 tfidf를 가진 특성 : \n",
      " ['suplexes' 'gauche' 'hypocrites' ... 'tanner' 'brendan' 'muppet']\n"
     ]
    }
   ],
   "source": [
    "vectorizer = grid.best_estimator_.named_steps['tfidfvectorizer']\n",
    "\n",
    "X_train = vectorizer.transform(text_train)\n",
    "max_value = X_train.max(axis=0).toarray().ravel()\n",
    "sorted_by_tfidf = max_value.argsort()\n",
    "\n",
    "feature_names = np.array(vectorizer.get_feature_names())\n",
    "\n",
    "print('가장 낮은 tfidf를 가진 특성 : \\n', feature_names[sorted_by_tfidf[:20]])\n",
    "print('가장 높은 tfidf를 가진 특성 : \\n', feature_names[sorted_by_tfidf[:-20]])"
   ]
  },
  {
   "cell_type": "code",
   "execution_count": 73,
   "metadata": {},
   "outputs": [
    {
     "name": "stdout",
     "output_type": "stream",
     "text": [
      "가장 낮은 idf를 가진 특성 : \n",
      " ['the' 'and' 'of' 'to' 'this' 'is' 'it' 'in' 'that' 'but' 'for' 'with'\n",
      " 'was' 'as' 'on' 'movie' 'not' 'have' 'one' 'be' 'film' 'are' 'you' 'all'\n",
      " 'at' 'an' 'by' 'so' 'from' 'like' 'who' 'they' 'there' 'if' 'his' 'out'\n",
      " 'just' 'about' 'he' 'or' 'has' 'what' 'some' 'good' 'can' 'more' 'when'\n",
      " 'time' 'up' 'very' 'even' 'only' 'no' 'would' 'my' 'see' 'really' 'story'\n",
      " 'which' 'well' 'had' 'me' 'than' 'much' 'their' 'get' 'were' 'other'\n",
      " 'been' 'do' 'most' 'don' 'her' 'also' 'into' 'first' 'made' 'how' 'great'\n",
      " 'because' 'will' 'people' 'make' 'way' 'could' 'we' 'bad' 'after' 'any'\n",
      " 'too' 'then' 'them' 'she' 'watch' 'think' 'acting' 'movies' 'seen' 'its'\n",
      " 'him']\n"
     ]
    }
   ],
   "source": [
    "sorted_by_idf = np.argsort(vectorizer.idf_)\n",
    "print('가장 낮은 idf를 가진 특성 : \\n', feature_names[sorted_by_idf[:100]])"
   ]
  },
  {
   "cell_type": "code",
   "execution_count": 74,
   "metadata": {},
   "outputs": [
    {
     "data": {
      "image/png": "[encoded data removed]",
      "text/plain": [
       "<Figure size 1080x360 with 1 Axes>"
      ]
     },
     "metadata": {
      "needs_background": "light"
     },
     "output_type": "display_data"
    }
   ],
   "source": [
    "mglearn.tools.visualize_coefficients(\n",
    "    grid.best_estimator_.named_steps[\"logisticregression\"].coef_[0],\n",
    "    feature_names, n_top_features=40)"
   ]
  },
  {
   "cell_type": "markdown",
   "metadata": {},
   "source": [
    "# 7.7 여러 단어로 만든 BOW(n-그램)"
   ]
  },
  {
   "cell_type": "code",
   "execution_count": 75,
   "metadata": {},
   "outputs": [
    {
     "name": "stdout",
     "output_type": "stream",
     "text": [
      "bards_words : \n",
      " ['The fool doth think he is wise,', 'but the wise man knows himself to be a fool']\n"
     ]
    }
   ],
   "source": [
    "print('bards_words : \\n', bards_words)"
   ]
  },
  {
   "cell_type": "code",
   "execution_count": 79,
   "metadata": {},
   "outputs": [
    {
     "name": "stdout",
     "output_type": "stream",
     "text": [
      "어휘 사전 크기 :  13\n",
      "어휘 사전 : \n",
      " ['be', 'but', 'doth', 'fool', 'he', 'himself', 'is', 'knows', 'man', 'the', 'think', 'to', 'wise']\n"
     ]
    }
   ],
   "source": [
    "cv = CountVectorizer(ngram_range=(1,1)).fit(bards_words)\n",
    "print('어휘 사전 크기 : ', len(cv.vocabulary_))\n",
    "print('어휘 사전 : \\n', cv.get_feature_names())"
   ]
  },
  {
   "cell_type": "code",
   "execution_count": 80,
   "metadata": {},
   "outputs": [
    {
     "name": "stdout",
     "output_type": "stream",
     "text": [
      "어휘 사전 크기 :  14\n",
      "어휘 사전 : \n",
      " ['be fool', 'but the', 'doth think', 'fool doth', 'he is', 'himself to', 'is wise', 'knows himself', 'man knows', 'the fool', 'the wise', 'think he', 'to be', 'wise man']\n"
     ]
    }
   ],
   "source": [
    "cv = CountVectorizer(ngram_range=(2,2)).fit(bards_words)\n",
    "print('어휘 사전 크기 : ', len(cv.vocabulary_))\n",
    "print('어휘 사전 : \\n', cv.get_feature_names())"
   ]
  },
  {
   "cell_type": "code",
   "execution_count": 81,
   "metadata": {},
   "outputs": [
    {
     "name": "stdout",
     "output_type": "stream",
     "text": [
      "변환된 데이터 (밀집 배열) : \n",
      " [[0 0 1 1 1 0 1 0 0 1 0 1 0 0]\n",
      " [1 1 0 0 0 1 0 1 1 0 1 0 1 1]]\n"
     ]
    }
   ],
   "source": [
    "print('변환된 데이터 (밀집 배열) : \\n', cv.transform(bards_words).toarray())"
   ]
  },
  {
   "cell_type": "code",
   "execution_count": 82,
   "metadata": {},
   "outputs": [
    {
     "name": "stdout",
     "output_type": "stream",
     "text": [
      "어휘 사전 크기 :  39\n",
      "어휘 사전 : \n",
      " ['be', 'be fool', 'but', 'but the', 'but the wise', 'doth', 'doth think', 'doth think he', 'fool', 'fool doth', 'fool doth think', 'he', 'he is', 'he is wise', 'himself', 'himself to', 'himself to be', 'is', 'is wise', 'knows', 'knows himself', 'knows himself to', 'man', 'man knows', 'man knows himself', 'the', 'the fool', 'the fool doth', 'the wise', 'the wise man', 'think', 'think he', 'think he is', 'to', 'to be', 'to be fool', 'wise', 'wise man', 'wise man knows']\n"
     ]
    }
   ],
   "source": [
    "cv = CountVectorizer(ngram_range=(1,3)).fit(bards_words)\n",
    "\n",
    "print('어휘 사전 크기 : ', len(cv.vocabulary_))\n",
    "print('어휘 사전 : \\n', cv.get_feature_names())"
   ]
  },
  {
   "cell_type": "code",
   "execution_count": null,
   "metadata": {},
   "outputs": [],
   "source": [
    "pipe = make_pipeline(TfidfVectorizer(min_df=5), LogisticRegression())\n",
    "\n",
    "param_grid = {'logisticregression__C' : [0.001, 0.01, 0.1, 1, 10, 100],\n",
    "             'tfidfvectorizer__ngram_range' : [(1,1), (1,2), (1,3)]}\n",
    "\n",
    "grid = GridSearchCV(pipe, param_grid, cv=5)\n",
    "grid.fit(text_train, y_train)\n",
    "\n",
    "print('최상의 교차 검증 점수 : {:.2f}'.format(grid.best_score_))\n",
    "print('최적의 매개변수 : \\n', grid.best_params_)"
   ]
  },
  {
   "cell_type": "code",
   "execution_count": null,
   "metadata": {},
   "outputs": [],
   "source": [
    "scores = grid.cv_results_['mean_test_score'].reshape(-1,3).T\n",
    "\n",
    "heatmap = mglearn.tools.heatmap(scores, xlabel='C', ylabel='ngram_range', cmap='viridis', fmt='%.3f',\n",
    "                               xticklabels=param_grid['logisticregression__C'],\n",
    "                               yticklabels=param_grid['tfidfvectorizer__ngram_range'])\n",
    "plt.colorbar(heatmap)"
   ]
  },
  {
   "cell_type": "code",
   "execution_count": null,
   "metadata": {},
   "outputs": [],
   "source": [
    "*"
   ]
  },
  {
   "cell_type": "markdown",
   "metadata": {},
   "source": [
    "# 7.8 고급 토큰화, 어간 추출, 표제어 추출"
   ]
  },
  {
   "cell_type": "code",
   "execution_count": 5,
   "metadata": {},
   "outputs": [
    {
     "name": "stdout",
     "output_type": "stream",
     "text": [
      "Collecting package metadata (current_repodata.json): ...working... done\n",
      "Solving environment: ...working... failed with initial frozen solve. Retrying with flexible solve.\n",
      "Solving environment: ...working... failed with repodata from current_repodata.json, will retry with next repodata source.\n",
      "Collecting package metadata (repodata.json): ...working... done\n",
      "Solving environment: ...working... failed with initial frozen solve. Retrying with flexible solve.\n",
      "Solving environment: ...working... \n",
      "\n",
      "Note: you may need to restart the kernel to use updated packages.\n"
     ]
    },
    {
     "name": "stderr",
     "output_type": "stream",
     "text": [
      "\n",
      "Building graph of deps:   0%|          | 0/352 [00:00<?, ?it/s]\n",
      "Examining flake8:   0%|          | 0/352 [00:00<?, ?it/s]      \n",
      "Examining statsmodels:   0%|          | 1/352 [00:00<01:47,  3.27it/s]\n",
      "Examining statsmodels:   1%|          | 2/352 [00:00<00:53,  6.54it/s]\n",
      "Examining qt:   1%|          | 2/352 [00:01<00:53,  6.54it/s]         \n",
      "Examining qt:   1%|          | 3/352 [00:01<02:08,  2.73it/s]\n",
      "Examining atomicwrites:   1%|          | 3/352 [00:01<02:08,  2.73it/s]\n",
      "Examining hdf5:   1%|1         | 4/352 [00:01<02:07,  2.73it/s]        \n",
      "Examining jpeg:   1%|1         | 5/352 [00:01<02:07,  2.73it/s]\n",
      "Examining itsdangerous:   2%|1         | 6/352 [00:01<02:06,  2.73it/s]\n",
      "Examining qdarkstyle:   2%|1         | 7/352 [00:01<02:06,  2.73it/s]  \n",
      "Examining nbconvert:   2%|2         | 8/352 [00:01<02:06,  2.73it/s] \n",
      "Examining heapdict:   3%|2         | 9/352 [00:01<02:05,  2.73it/s] \n",
      "Examining heapdict:   3%|2         | 10/352 [00:01<01:36,  3.56it/s]\n",
      "Examining cffi:   3%|2         | 10/352 [00:01<01:36,  3.56it/s]    \n",
      "Examining ipywidgets:   3%|3         | 11/352 [00:01<01:35,  3.56it/s]\n",
      "Examining ipywidgets:   3%|3         | 12/352 [00:01<01:12,  4.70it/s]\n",
      "Examining krb5:   3%|3         | 12/352 [00:03<01:12,  4.70it/s]      \n",
      "Examining krb5:   4%|3         | 13/352 [00:03<02:58,  1.90it/s]\n",
      "Examining zope:   4%|3         | 13/352 [00:03<02:58,  1.90it/s]\n",
      "Examining python=3.8:   4%|3         | 14/352 [00:03<02:58,  1.90it/s]\n",
      "Examining pytorch:   4%|4         | 15/352 [00:03<02:57,  1.90it/s]   \n",
      "Examining pytorch:   5%|4         | 16/352 [00:03<02:07,  2.63it/s]\n",
      "Examining ply:   5%|4         | 16/352 [00:03<02:07,  2.63it/s]    \n",
      "Examining pathlib2:   5%|4         | 17/352 [00:03<02:07,  2.63it/s]\n",
      "Examining pathlib2:   5%|5         | 18/352 [00:03<01:42,  3.26it/s]\n",
      "Examining send2trash:   5%|5         | 18/352 [00:03<01:42,  3.26it/s]\n",
      "Examining pytest:   5%|5         | 19/352 [00:03<01:42,  3.26it/s]    \n",
      "Examining lz4-c:   6%|5         | 20/352 [00:06<01:41,  3.26it/s] \n",
      "Examining lz4-c:   6%|5         | 21/352 [00:06<02:39,  2.08it/s]\n",
      "Examining simplegeneric:   6%|5         | 21/352 [00:06<02:39,  2.08it/s]\n",
      "Examining jedi:   6%|6         | 22/352 [00:06<02:38,  2.08it/s]         \n",
      "Examining sip:   7%|6         | 23/352 [00:06<02:38,  2.08it/s] \n",
      "Examining sip:   7%|6         | 24/352 [00:06<01:54,  2.87it/s]\n",
      "Examining pycparser:   7%|6         | 24/352 [00:06<01:54,  2.87it/s]\n",
      "Examining pyparsing:   7%|7         | 25/352 [00:06<01:53,  2.87it/s]\n",
      "Examining pytz:   7%|7         | 26/352 [00:06<01:53,  2.87it/s]     \n",
      "Examining pytz:   8%|7         | 27/352 [00:06<01:23,  3.90it/s]\n",
      "Examining mkl_fft:   8%|7         | 27/352 [00:06<01:23,  3.90it/s]\n",
      "Examining conda[version='>=4.9.2']:   8%|7         | 28/352 [00:07<01:23,  3.90it/s]\n",
      "Examining conda[version='>=4.9.2']:   8%|8         | 29/352 [00:07<01:52,  2.88it/s]\n",
      "Examining gmpy2:   8%|8         | 29/352 [00:07<01:52,  2.88it/s]                   \n",
      "Examining yaml:   9%|8         | 30/352 [00:07<01:51,  2.88it/s] \n",
      "Examining autopep8:   9%|8         | 31/352 [00:07<01:51,  2.88it/s]\n",
      "Examining rtree:   9%|9         | 32/352 [00:07<01:51,  2.88it/s]   \n",
      "Examining rtree:   9%|9         | 33/352 [00:07<01:20,  3.94it/s]\n",
      "Examining pynacl:   9%|9         | 33/352 [00:07<01:20,  3.94it/s]\n",
      "Examining pylint:  10%|9         | 34/352 [00:07<01:20,  3.94it/s]\n",
      "Examining pylint:  10%|9         | 35/352 [00:07<01:02,  5.07it/s]\n",
      "Examining win_unicode_console:  10%|9         | 35/352 [00:08<01:02,  5.07it/s]\n",
      "Examining mpfr:  10%|#         | 36/352 [00:08<01:02,  5.07it/s]               \n",
      "Examining mpfr:  11%|#         | 37/352 [00:08<01:02,  5.03it/s]\n",
      "Examining libllvm9:  11%|#         | 37/352 [00:08<01:02,  5.03it/s]\n",
      "Examining mccabe:  11%|#         | 38/352 [00:08<01:02,  5.03it/s]  \n",
      "Examining win_inet_pton:  11%|#1        | 39/352 [00:08<01:02,  5.03it/s]\n",
      "Examining xlwings:  11%|#1        | 40/352 [00:08<01:02,  5.03it/s]      \n",
      "Examining pywinpty:  12%|#1        | 41/352 [00:08<01:01,  5.03it/s]\n",
      "Examining pywinpty:  12%|#1        | 42/352 [00:08<00:48,  6.34it/s]\n",
      "Examining click:  12%|#1        | 42/352 [00:08<00:48,  6.34it/s]   \n",
      "Examining spyder:  12%|#2        | 43/352 [00:08<00:48,  6.34it/s]\n",
      "Examining lazy-object-proxy:  12%|#2        | 44/352 [00:13<00:48,  6.34it/s]\n",
      "Examining lazy-object-proxy:  13%|#2        | 45/352 [00:13<03:01,  1.69it/s]\n",
      "Examining pyqt:  13%|#2        | 45/352 [00:13<03:01,  1.69it/s]             \n",
      "Examining sphinxcontrib-qthelp:  13%|#3        | 46/352 [00:13<03:01,  1.69it/s]\n",
      "Examining _pytorch_select:  13%|#3        | 47/352 [00:13<03:00,  1.69it/s]     \n",
      "Examining backports.functools_lru_cache:  14%|#3        | 48/352 [00:13<03:00,  1.69it/s]\n",
      "Examining clyent:  14%|#3        | 49/352 [00:13<02:59,  1.69it/s]                       \n",
      "Examining clyent:  14%|#4        | 50/352 [00:13<02:08,  2.36it/s]\n",
      "Examining ninja:  14%|#4        | 50/352 [00:13<02:08,  2.36it/s] \n",
      "Examining blosc:  14%|#4        | 51/352 [00:13<02:07,  2.36it/s]\n",
      "Examining blosc:  15%|#4        | 52/352 [00:13<01:34,  3.19it/s]\n",
      "Examining dask-core:  15%|#4        | 52/352 [00:13<01:34,  3.19it/s]\n",
      "Examining numba:  15%|#5        | 53/352 [00:13<01:33,  3.19it/s]    \n",
      "Examining numba:  15%|#5        | 54/352 [00:13<01:20,  3.69it/s]\n",
      "Examining ca-certificates:  15%|#5        | 54/352 [00:15<01:20,  3.69it/s]\n",
      "Examining libtiff:  16%|#5        | 55/352 [00:15<01:20,  3.69it/s]        \n",
      "Examining libtiff:  16%|#5        | 56/352 [00:15<02:10,  2.27it/s]\n",
      "Examining tk:  16%|#5        | 56/352 [00:15<02:10,  2.27it/s]     \n",
      "Examining pyodbc:  16%|#6        | 57/352 [00:15<02:10,  2.27it/s]\n",
      "Examining distributed:  16%|#6        | 58/352 [00:15<02:09,  2.27it/s]\n",
      "Examining jupyter_client:  17%|#6        | 59/352 [00:19<02:09,  2.27it/s]\n",
      "Examining jupyter_client:  17%|#7        | 60/352 [00:19<02:58,  1.63it/s]\n",
      "Examining pyrsistent:  17%|#7        | 60/352 [00:19<02:58,  1.63it/s]    \n",
      "Examining pyrsistent:  17%|#7        | 61/352 [00:19<02:32,  1.90it/s]\n",
      "Examining idna:  17%|#7        | 61/352 [00:20<02:32,  1.90it/s]      \n",
      "Examining pickleshare:  18%|#7        | 62/352 [00:20<02:32,  1.90it/s]\n",
      "Examining m2w64-gcc-libs-core:  18%|#7        | 63/352 [00:20<02:31,  1.90it/s]\n",
      "Examining ipython:  18%|#8        | 64/352 [00:20<02:31,  1.90it/s]            \n",
      "Examining matplotlib:  18%|#8        | 65/352 [00:21<02:30,  1.90it/s]\n",
      "Examining matplotlib:  19%|#8        | 66/352 [00:21<02:02,  2.33it/s]\n",
      "Examining six:  19%|#8        | 66/352 [00:22<02:02,  2.33it/s]       \n",
      "Examining six:  19%|#9        | 67/352 [00:22<04:01,  1.18it/s]\n",
      "Examining pycurl:  19%|#9        | 67/352 [00:22<04:01,  1.18it/s]\n",
      "Examining docutils:  19%|#9        | 68/352 [00:22<04:00,  1.18it/s]\n",
      "Examining docutils:  20%|#9        | 69/352 [00:22<02:52,  1.64it/s]\n",
      "Examining jinja2:  20%|#9        | 69/352 [00:22<02:52,  1.64it/s]  \n",
      "Examining astropy:  20%|#9        | 70/352 [00:23<02:51,  1.64it/s]\n",
      "Examining astropy:  20%|##        | 71/352 [00:23<02:09,  2.16it/s]\n",
      "Examining libxml2:  20%|##        | 71/352 [00:26<02:09,  2.16it/s]\n",
      "Examining libxml2:  20%|##        | 72/352 [00:26<06:00,  1.29s/it]\n",
      "Examining tornado:  20%|##        | 72/352 [00:26<06:00,  1.29s/it]\n",
      "Examining m2w64-libiconv:  21%|##        | 73/352 [00:26<05:58,  1.29s/it]\n",
      "Examining intel-openmp:  21%|##1       | 74/352 [00:26<05:57,  1.29s/it]  \n",
      "Examining numpydoc:  21%|##1       | 75/352 [00:26<05:56,  1.29s/it]    \n",
      "Examining testpath:  22%|##1       | 76/352 [00:26<05:55,  1.29s/it]\n",
      "Examining testpath:  22%|##1       | 77/352 [00:26<04:13,  1.09it/s]\n",
      "Examining ipython_genutils:  22%|##1       | 77/352 [00:26<04:13,  1.09it/s]\n",
      "Examining numpy:  22%|##2       | 78/352 [00:26<04:12,  1.09it/s]           \n",
      "Examining graphviz:  22%|##2       | 79/352 [00:28<04:11,  1.09it/s]\n",
      "Examining graphviz:  23%|##2       | 80/352 [00:28<03:32,  1.28it/s]\n",
      "Examining pymeeus:  23%|##2       | 80/352 [00:28<03:32,  1.28it/s] \n",
      "Examining zope.interface:  23%|##3       | 81/352 [00:28<03:31,  1.28it/s]\n",
      "Examining pexpect:  23%|##3       | 82/352 [00:28<03:31,  1.28it/s]       \n",
      "Examining pexpect:  24%|##3       | 83/352 [00:28<02:32,  1.76it/s]\n",
      "Examining curl:  24%|##3       | 83/352 [00:28<02:32,  1.76it/s]   \n",
      "Examining bottleneck:  24%|##3       | 84/352 [00:28<02:32,  1.76it/s]\n",
      "Examining @/win-64::__archspec==1=x86_64:  24%|##4       | 85/352 [00:28<02:31,  1.76it/s]\n",
      "Examining @/win-64::__archspec==1=x86_64:  24%|##4       | 86/352 [00:28<01:57,  2.27it/s]\n",
      "Examining winpty:  24%|##4       | 86/352 [00:28<01:57,  2.27it/s]                        \n",
      "Examining conda-env:  25%|##4       | 87/352 [00:28<01:56,  2.27it/s]\n",
      "Examining m2w64-mpfr:  25%|##5       | 88/352 [00:28<01:56,  2.27it/s]\n",
      "Examining pyreadline:  25%|##5       | 89/352 [00:28<01:55,  2.27it/s]\n",
      "Examining libsodium:  26%|##5       | 90/352 [00:28<01:55,  2.27it/s] \n",
      "Examining boto:  26%|##5       | 91/352 [00:28<01:54,  2.27it/s]     \n",
      "Examining pep8:  26%|##6       | 92/352 [00:28<01:54,  2.27it/s]\n",
      "Examining _ipyw_jlab_nb_ext_conf:  26%|##6       | 93/352 [00:28<01:54,  2.27it/s]\n",
      "Examining html5lib:  27%|##6       | 94/352 [00:28<01:53,  2.27it/s]              \n",
      "Examining html5lib:  27%|##6       | 95/352 [00:28<01:20,  3.18it/s]\n",
      "Examining jupyter_console:  27%|##6       | 95/352 [00:28<01:20,  3.18it/s]\n",
      "Examining mpc:  27%|##7       | 96/352 [00:29<01:20,  3.18it/s]            \n",
      "Examining mpir:  28%|##7       | 97/352 [00:29<01:20,  3.18it/s]\n",
      "Examining mpir:  28%|##7       | 98/352 [00:29<01:05,  3.87it/s]\n",
      "Examining m2w64-mpc:  28%|##7       | 98/352 [00:29<01:05,  3.87it/s]\n",
      "Examining console_shortcut:  28%|##8       | 99/352 [00:29<01:05,  3.87it/s]\n",
      "Examining snappy:  28%|##8       | 100/352 [00:29<01:05,  3.87it/s]         \n",
      "Examining matplotlib-base:  29%|##8       | 101/352 [00:29<01:04,  3.87it/s]\n",
      "Examining sympy:  29%|##8       | 102/352 [00:30<01:04,  3.87it/s]          \n",
      "Examining sympy:  29%|##9       | 103/352 [00:30<00:56,  4.44it/s]\n",
      "Examining libarchive:  29%|##9       | 103/352 [00:30<00:56,  4.44it/s]\n",
      "Examining python-libarchive-c:  30%|##9       | 104/352 [00:30<00:55,  4.44it/s]\n",
      "Examining python-libarchive-c:  30%|##9       | 105/352 [00:30<00:49,  5.04it/s]\n",
      "Examining mkl_random:  30%|##9       | 105/352 [00:30<00:49,  5.04it/s]         \n",
      "Examining wcwidth:  30%|###       | 106/352 [00:30<00:48,  5.04it/s]   \n",
      "Examining wcwidth:  30%|###       | 107/352 [00:30<00:57,  4.26it/s]\n",
      "Examining greenlet:  30%|###       | 107/352 [00:30<00:57,  4.26it/s]\n",
      "Examining pyyaml:  31%|###       | 108/352 [00:31<00:57,  4.26it/s]  \n",
      "Examining pathtools:  31%|###       | 109/352 [00:31<00:56,  4.26it/s]\n",
      "Examining pathtools:  31%|###1      | 110/352 [00:31<00:43,  5.61it/s]\n",
      "Examining msys2-conda-epoch:  31%|###1      | 110/352 [00:31<00:43,  5.61it/s]\n",
      "Examining certifi:  32%|###1      | 111/352 [00:31<00:42,  5.61it/s]          \n",
      "Examining attrs:  32%|###1      | 112/352 [00:31<00:42,  5.61it/s]  \n",
      "Examining attrs:  32%|###2      | 113/352 [00:31<00:32,  7.40it/s]\n",
      "Examining nltk:  32%|###2      | 113/352 [00:31<00:32,  7.40it/s] \n",
      "Examining snowballstemmer:  32%|###2      | 114/352 [00:31<00:32,  7.40it/s]\n",
      "Examining snowballstemmer:  33%|###2      | 115/352 [00:31<00:33,  6.99it/s]\n",
      "Examining partd:  33%|###2      | 115/352 [00:31<00:33,  6.99it/s]          \n",
      "Examining future:  33%|###2      | 116/352 [00:31<00:33,  6.99it/s]\n",
      "Examining mistune:  33%|###3      | 117/352 [00:31<00:33,  6.99it/s]\n",
      "Examining icc_rt:  34%|###3      | 118/352 [00:31<00:33,  6.99it/s] \n",
      "Examining icc_rt:  34%|###3      | 119/352 [00:31<00:25,  9.24it/s]\n",
      "Examining traitlets:  34%|###3      | 119/352 [00:31<00:25,  9.24it/s]\n",
      "Examining liblief:  34%|###4      | 120/352 [00:31<00:25,  9.24it/s]  \n",
      "Examining bkcharts:  34%|###4      | 121/352 [00:31<00:24,  9.24it/s]\n",
      "Examining fsspec:  35%|###4      | 122/352 [00:31<00:24,  9.24it/s]  \n",
      "Examining fsspec:  35%|###4      | 123/352 [00:31<00:22, 10.28it/s]\n",
      "Examining yapf:  35%|###4      | 123/352 [00:31<00:22, 10.28it/s]  \n",
      "Examining anaconda-client:  35%|###5      | 124/352 [00:32<00:22, 10.28it/s]\n",
      "Examining anaconda-client:  36%|###5      | 125/352 [00:32<00:18, 11.99it/s]\n",
      "Examining ipykernel:  36%|###5      | 125/352 [00:32<00:18, 11.99it/s]      \n",
      "Examining setuptools:  36%|###5      | 126/352 [00:33<00:18, 11.99it/s]\n",
      "Examining setuptools:  36%|###6      | 127/352 [00:33<01:19,  2.82it/s]\n",
      "Examining filelock:  36%|###6      | 127/352 [00:34<01:19,  2.82it/s]  \n",
      "Examining qtconsole:  36%|###6      | 128/352 [00:34<01:19,  2.82it/s]\n",
      "Examining qtconsole:  37%|###6      | 129/352 [00:34<01:12,  3.09it/s]\n",
      "Examining pycosat:  37%|###6      | 129/352 [00:35<01:12,  3.09it/s]  \n",
      "Examining pluggy:  37%|###6      | 130/352 [00:35<01:11,  3.09it/s] \n",
      "Examining pluggy:  37%|###7      | 131/352 [00:35<01:10,  3.15it/s]\n",
      "Examining m2w64-bzip2:  37%|###7      | 131/352 [00:35<01:10,  3.15it/s]\n",
      "Examining pyflakes:  38%|###7      | 132/352 [00:35<01:09,  3.15it/s]   \n",
      "Examining @/win-64::__win==0=0:  38%|###7      | 133/352 [00:35<01:09,  3.15it/s]\n",
      "Examining @/win-64::__win==0=0:  38%|###8      | 134/352 [00:35<00:50,  4.29it/s]\n"
     ]
    },
    {
     "name": "stderr",
     "output_type": "stream",
     "text": [
      "Examining kiwisolver:  38%|###8      | 134/352 [00:35<00:50,  4.29it/s]          \n",
      "Examining backports.weakref:  38%|###8      | 135/352 [00:35<00:50,  4.29it/s]\n",
      "Examining typing_extensions:  39%|###8      | 136/352 [00:35<00:50,  4.29it/s]\n",
      "Examining imageio:  39%|###8      | 137/352 [00:35<00:50,  4.29it/s]          \n",
      "Examining patsy:  39%|###9      | 138/352 [00:36<00:49,  4.29it/s]  \n",
      "Examining patsy:  39%|###9      | 139/352 [00:36<00:46,  4.63it/s]\n",
      "Examining m2w64-isl:  39%|###9      | 139/352 [00:36<00:46,  4.63it/s]\n",
      "Examining backports:  40%|###9      | 140/352 [00:36<00:45,  4.63it/s]\n",
      "Examining backports:  40%|####      | 141/352 [00:36<00:43,  4.85it/s]\n",
      "Examining m2w64-toolchain_win-64:  40%|####      | 141/352 [00:36<00:43,  4.85it/s]\n",
      "Examining isort:  40%|####      | 142/352 [00:36<00:43,  4.85it/s]                 \n",
      "Examining alabaster:  41%|####      | 143/352 [00:37<00:43,  4.85it/s]\n",
      "Examining alabaster:  41%|####      | 144/352 [00:37<00:45,  4.59it/s]\n",
      "Examining notebook:  41%|####      | 144/352 [00:37<00:45,  4.59it/s] \n",
      "Examining python-jsonrpc-server:  41%|####1     | 145/352 [00:40<00:45,  4.59it/s]\n",
      "Examining python-jsonrpc-server:  41%|####1     | 146/352 [00:40<02:06,  1.63it/s]\n",
      "Examining m2w64-libmangle-git:  41%|####1     | 146/352 [00:40<02:06,  1.63it/s]  \n",
      "Examining sphinxcontrib-serializinghtml:  42%|####1     | 147/352 [00:40<02:05,  1.63it/s]\n",
      "Examining libpng:  42%|####2     | 148/352 [00:40<02:05,  1.63it/s]                       \n",
      "Examining psutil:  42%|####2     | 149/352 [00:40<02:04,  1.63it/s]\n",
      "Examining urllib3:  43%|####2     | 150/352 [00:40<02:03,  1.63it/s]\n",
      "Examining urllib3:  43%|####2     | 151/352 [00:40<01:27,  2.29it/s]\n",
      "Examining nbformat:  43%|####2     | 151/352 [00:41<01:27,  2.29it/s]\n",
      "Examining m2w64-crt-git:  43%|####3     | 152/352 [00:41<01:27,  2.29it/s]\n",
      "Examining m2w64-crt-git:  43%|####3     | 153/352 [00:41<01:30,  2.20it/s]\n",
      "Examining scikit-learn:  43%|####3     | 153/352 [00:41<01:30,  2.20it/s] \n",
      "Examining bzip2:  44%|####3     | 154/352 [00:43<01:29,  2.20it/s]       \n",
      "Examining bzip2:  44%|####4     | 155/352 [00:43<01:50,  1.78it/s]\n",
      "Examining llvmlite:  44%|####4     | 155/352 [00:43<01:50,  1.78it/s]\n",
      "Examining xlrd:  44%|####4     | 156/352 [00:43<01:50,  1.78it/s]    \n",
      "Examining conda-build:  45%|####4     | 157/352 [00:43<01:49,  1.78it/s]\n",
      "Examining conda-build:  45%|####4     | 158/352 [00:43<01:18,  2.47it/s]\n",
      "Examining bokeh:  45%|####4     | 158/352 [00:52<01:18,  2.47it/s]      \n",
      "Examining flask:  45%|####5     | 159/352 [00:56<01:18,  2.47it/s]\n",
      "Examining flask:  45%|####5     | 160/352 [00:56<07:25,  2.32s/it]\n",
      "Examining astroid:  45%|####5     | 160/352 [00:56<07:25,  2.32s/it]\n",
      "Examining libcurl:  46%|####5     | 161/352 [00:57<07:23,  2.32s/it]\n",
      "Examining libcurl:  46%|####6     | 162/352 [00:57<05:29,  1.73s/it]\n",
      "Examining cycler:  46%|####6     | 162/352 [00:57<05:29,  1.73s/it] \n",
      "Examining conda-verify:  46%|####6     | 163/352 [00:57<05:27,  1.73s/it]\n",
      "Examining xmltodict:  47%|####6     | 164/352 [00:57<05:26,  1.73s/it]   \n",
      "Examining xmltodict:  47%|####6     | 165/352 [00:57<03:50,  1.23s/it]\n",
      "Examining anaconda==2020.07:  47%|####6     | 165/352 [00:57<03:50,  1.23s/it]\n",
      "Examining cryptography:  47%|####7     | 166/352 [00:57<03:49,  1.23s/it]     \n",
      "Examining m2w64-toolchain:  47%|####7     | 167/352 [00:58<03:47,  1.23s/it]\n",
      "Examining m2w64-toolchain:  48%|####7     | 168/352 [00:58<02:50,  1.08it/s]\n",
      "Examining tblib:  48%|####7     | 168/352 [00:58<02:50,  1.08it/s]          \n",
      "Examining werkzeug:  48%|####8     | 169/352 [00:58<02:50,  1.08it/s]\n",
      "Examining terminado:  48%|####8     | 170/352 [00:58<02:49,  1.08it/s]\n",
      "Examining ephem:  49%|####8     | 171/352 [00:58<02:48,  1.08it/s]    \n",
      "Examining ephem:  49%|####8     | 172/352 [00:58<01:59,  1.51it/s]\n",
      "Examining prometheus_client:  49%|####8     | 172/352 [00:58<01:59,  1.51it/s]\n",
      "Examining pygments:  49%|####9     | 173/352 [00:58<01:58,  1.51it/s]         \n",
      "Examining pygments:  49%|####9     | 174/352 [00:58<01:27,  2.02it/s]\n",
      "Examining pillow:  49%|####9     | 174/352 [00:58<01:27,  2.02it/s]  \n",
      "Examining pyopenssl:  50%|####9     | 175/352 [00:59<01:27,  2.02it/s]\n",
      "Examining pyopenssl:  50%|#####     | 176/352 [00:59<01:11,  2.47it/s]\n",
      "Examining zope.event:  50%|#####     | 176/352 [00:59<01:11,  2.47it/s]\n",
      "Examining zope.event:  50%|#####     | 177/352 [00:59<01:02,  2.79it/s]\n",
      "Examining zipp:  50%|#####     | 177/352 [00:59<01:02,  2.79it/s]      \n",
      "Examining zipp:  51%|#####     | 178/352 [00:59<00:49,  3.48it/s]\n",
      "Examining vc:  51%|#####     | 178/352 [00:59<00:49,  3.48it/s]  \n",
      "Examining cloudpickle:  51%|#####     | 179/352 [00:59<00:49,  3.48it/s]\n",
      "Examining bitarray:  51%|#####1    | 180/352 [00:59<00:49,  3.48it/s]   \n",
      "Examining bitarray:  51%|#####1    | 181/352 [00:59<00:36,  4.67it/s]\n",
      "Examining pydocstyle:  51%|#####1    | 181/352 [00:59<00:36,  4.67it/s]\n",
      "Examining spacy:  52%|#####1    | 182/352 [00:59<00:36,  4.67it/s]     \n",
      "Examining spacy:  52%|#####1    | 183/352 [00:59<00:28,  5.95it/s]\n",
      "Examining rope:  52%|#####1    | 183/352 [01:00<00:28,  5.95it/s] \n",
      "Examining prompt-toolkit:  52%|#####2    | 184/352 [01:00<00:28,  5.95it/s]\n",
      "Examining prompt-toolkit:  53%|#####2    | 185/352 [01:00<00:47,  3.51it/s]\n",
      "Examining pywavelets:  53%|#####2    | 185/352 [01:00<00:47,  3.51it/s]    \n",
      "Examining backports.tempfile:  53%|#####2    | 186/352 [01:01<00:47,  3.51it/s]\n",
      "Examining backports.tempfile:  53%|#####3    | 187/352 [01:01<00:46,  3.52it/s]\n",
      "Examining jupyterlab:  53%|#####3    | 187/352 [01:01<00:46,  3.52it/s]        \n",
      "Examining python-language-server:  53%|#####3    | 188/352 [01:03<00:46,  3.52it/s]\n",
      "Examining python-language-server:  54%|#####3    | 189/352 [01:03<01:34,  1.72it/s]\n",
      "Examining anaconda-project:  54%|#####3    | 189/352 [01:04<01:34,  1.72it/s]      \n",
      "Examining anaconda-project:  54%|#####3    | 190/352 [01:04<01:44,  1.55it/s]\n",
      "Examining importlib-metadata:  54%|#####3    | 190/352 [01:04<01:44,  1.55it/s]\n",
      "Examining importlib-metadata:  54%|#####4    | 191/352 [01:04<01:23,  1.93it/s]\n",
      "Examining sqlite:  54%|#####4    | 191/352 [01:04<01:23,  1.93it/s]            \n",
      "Examining m2w64-gcc-fortran:  55%|#####4    | 192/352 [01:04<01:22,  1.93it/s]\n",
      "Examining ujson:  55%|#####4    | 193/352 [01:04<01:22,  1.93it/s]            \n",
      "Examining pycodestyle:  55%|#####5    | 194/352 [01:04<01:21,  1.93it/s]\n",
      "Examining sphinx:  55%|#####5    | 195/352 [01:04<01:21,  1.93it/s]     \n",
      "Examining pandas:  56%|#####5    | 196/352 [01:06<01:20,  1.93it/s]\n",
      "Examining pandas:  56%|#####5    | 197/352 [01:06<01:05,  2.35it/s]\n",
      "Examining py:  56%|#####5    | 197/352 [01:07<01:05,  2.35it/s]    \n",
      "Examining py:  56%|#####6    | 198/352 [01:07<01:57,  1.31it/s]\n",
      "Examining m2w64-gcc-objc:  56%|#####6    | 198/352 [01:07<01:57,  1.31it/s]\n",
      "Examining icu:  57%|#####6    | 199/352 [01:07<01:56,  1.31it/s]           \n",
      "Examining m2w64-make:  57%|#####6    | 200/352 [01:07<01:55,  1.31it/s]\n",
      "Examining m2w64-gcc-ada:  57%|#####7    | 201/352 [01:07<01:55,  1.31it/s]\n",
      "Examining qtpy:  57%|#####7    | 202/352 [01:07<01:54,  1.31it/s]         \n",
      "Examining libxslt:  58%|#####7    | 203/352 [01:07<01:53,  1.31it/s]\n",
      "Examining libxslt:  58%|#####7    | 204/352 [01:07<01:19,  1.86it/s]\n",
      "Examining xlsxwriter:  58%|#####7    | 204/352 [01:07<01:19,  1.86it/s]\n",
      "Examining lunarcalendar:  58%|#####8    | 205/352 [01:07<01:19,  1.86it/s]\n",
      "Examining lunarcalendar:  59%|#####8    | 206/352 [01:07<00:57,  2.53it/s]\n",
      "Examining babel:  59%|#####8    | 206/352 [01:07<00:57,  2.53it/s]        \n",
      "Examining zstd:  59%|#####8    | 207/352 [01:07<00:57,  2.53it/s] \n",
      "Examining webencodings:  59%|#####9    | 208/352 [01:07<00:56,  2.53it/s]\n",
      "Examining regex:  59%|#####9    | 209/352 [01:07<00:56,  2.53it/s]       \n",
      "Examining cytoolz:  60%|#####9    | 210/352 [01:08<00:56,  2.53it/s]\n",
      "Examining cytoolz:  60%|#####9    | 211/352 [01:08<00:40,  3.49it/s]\n",
      "Examining pandocfilters:  60%|#####9    | 211/352 [01:08<00:40,  3.49it/s]\n",
      "Examining sphinxcontrib-applehelp:  60%|######    | 212/352 [01:08<00:40,  3.49it/s]\n",
      "Examining soupsieve:  61%|######    | 213/352 [01:08<00:39,  3.49it/s]              \n",
      "Examining widgetsnbextension:  61%|######    | 214/352 [01:08<00:39,  3.49it/s]\n",
      "Examining widgetsnbextension:  61%|######1   | 215/352 [01:08<00:28,  4.80it/s]\n",
      "Examining wincertstore:  61%|######1   | 215/352 [01:09<00:28,  4.80it/s]      \n",
      "Examining libnetcdf:  61%|######1   | 216/352 [01:09<00:28,  4.80it/s]   \n",
      "Examining menuinst:  62%|######1   | 217/352 [01:09<00:28,  4.80it/s] \n",
      "Examining menuinst:  62%|######1   | 218/352 [01:09<00:35,  3.75it/s]\n",
      "Examining spyder-kernels:  62%|######1   | 218/352 [01:09<00:35,  3.75it/s]\n",
      "Examining olefile:  62%|######2   | 219/352 [01:10<00:35,  3.75it/s]       \n",
      "Examining olefile:  62%|######2   | 220/352 [01:10<00:39,  3.36it/s]\n",
      "Examining json5:  62%|######2   | 220/352 [01:10<00:39,  3.36it/s]  \n",
      "Examining pywin32:  63%|######2   | 221/352 [01:10<00:38,  3.36it/s]\n",
      "Examining libiconv:  63%|######3   | 222/352 [01:10<00:38,  3.36it/s]\n",
      "Examining jupyter_core:  63%|######3   | 223/352 [01:10<00:38,  3.36it/s]\n",
      "Examining contextlib2:  64%|######3   | 224/352 [01:10<00:38,  3.36it/s] \n",
      "Examining contextlib2:  64%|######3   | 225/352 [01:10<00:27,  4.59it/s]\n",
      "Examining hdf4:  64%|######3   | 225/352 [01:10<00:27,  4.59it/s]       \n",
      "Examining more-itertools:  64%|######4   | 226/352 [01:10<00:27,  4.59it/s]\n",
      "Examining defusedxml:  64%|######4   | 227/352 [01:10<00:27,  4.59it/s]    \n",
      "Examining python_abi:  65%|######4   | 228/352 [01:10<00:27,  4.59it/s]\n",
      "Examining openssl:  65%|######5   | 229/352 [01:10<00:26,  4.59it/s]   \n",
      "Examining openssl:  65%|######5   | 230/352 [01:10<00:19,  6.30it/s]\n",
      "Examining lzo:  65%|######5   | 230/352 [01:10<00:19,  6.30it/s]    \n",
      "Examining netcdf4:  66%|######5   | 231/352 [01:10<00:19,  6.30it/s]\n",
      "Examining sphinxcontrib-websupport:  66%|######5   | 232/352 [01:12<00:19,  6.30it/s]\n",
      "Examining sphinxcontrib-websupport:  66%|######6   | 233/352 [01:12<00:32,  3.66it/s]\n",
      "Examining msgpack-python:  66%|######6   | 233/352 [01:12<00:32,  3.66it/s]          \n",
      "Examining lxml:  66%|######6   | 234/352 [01:12<00:32,  3.66it/s]          \n",
      "Examining markupsafe:  67%|######6   | 235/352 [01:12<00:32,  3.66it/s]\n",
      "Examining markupsafe:  67%|######7   | 236/352 [01:12<00:24,  4.68it/s]\n",
      "Examining pyzmq:  67%|######7   | 236/352 [01:12<00:24,  4.68it/s]     \n",
      "Examining sphinxcontrib-htmlhelp:  67%|######7   | 237/352 [01:12<00:24,  4.68it/s]\n",
      "Examining pip:  68%|######7   | 238/352 [01:12<00:24,  4.68it/s]                   \n",
      "Examining seaborn:  68%|######7   | 239/352 [01:13<00:24,  4.68it/s]\n",
      "Examining seaborn:  68%|######8   | 240/352 [01:13<00:27,  4.13it/s]\n",
      "Examining zict:  68%|######8   | 240/352 [01:14<00:27,  4.13it/s]   \n",
      "Examining beautifulsoup4:  68%|######8   | 241/352 [01:14<00:26,  4.13it/s]\n",
      "Examining beautifulsoup4:  69%|######8   | 242/352 [01:14<00:35,  3.14it/s]\n",
      "Examining requests:  69%|######8   | 242/352 [01:14<00:35,  3.14it/s]      \n",
      "Examining mpmath:  69%|######9   | 243/352 [01:14<00:34,  3.14it/s]  \n",
      "Examining mpmath:  69%|######9   | 244/352 [01:14<00:28,  3.85it/s]\n",
      "Examining m2w64-pkg-config:  69%|######9   | 244/352 [01:14<00:28,  3.85it/s]\n",
      "Examining cython:  70%|######9   | 245/352 [01:14<00:27,  3.85it/s]          \n",
      "Examining entrypoints:  70%|######9   | 246/352 [01:15<00:27,  3.85it/s]\n",
      "Examining entrypoints:  70%|#######   | 247/352 [01:15<00:30,  3.45it/s]\n",
      "Examining mkl-service:  70%|#######   | 247/352 [01:15<00:30,  3.45it/s]\n",
      "Examining prompt_toolkit:  70%|#######   | 248/352 [01:15<00:30,  3.45it/s]\n",
      "Examining prompt_toolkit:  71%|#######   | 249/352 [01:15<00:22,  4.52it/s]\n",
      "Examining pandoc:  71%|#######   | 249/352 [01:16<00:22,  4.52it/s]        \n",
      "Examining vs2015_runtime:  71%|#######1  | 250/352 [01:16<00:22,  4.52it/s]\n",
      "Examining vs2015_runtime:  71%|#######1  | 251/352 [01:16<00:17,  5.88it/s]\n",
      "Examining openpyxl:  71%|#######1  | 251/352 [01:16<00:17,  5.88it/s]      \n",
      "Examining glob2:  72%|#######1  | 252/352 [01:16<00:17,  5.88it/s]   \n",
      "Examining glob2:  72%|#######1  | 253/352 [01:16<00:13,  7.32it/s]\n",
      "Examining m2w64-gcc-libgfortran:  72%|#######1  | 253/352 [01:16<00:13,  7.32it/s]\n",
      "Examining mkl:  72%|#######2  | 254/352 [01:16<00:13,  7.32it/s]                  \n",
      "Examining libspatialindex:  72%|#######2  | 255/352 [01:16<00:13,  7.32it/s]\n",
      "Examining locket:  73%|#######2  | 256/352 [01:16<00:13,  7.32it/s]         \n",
      "Examining xlwt:  73%|#######3  | 257/352 [01:16<00:12,  7.32it/s]  \n",
      "Examining navigator-updater:  73%|#######3  | 258/352 [01:16<00:12,  7.32it/s]\n",
      "Examining et_xmlfile:  74%|#######3  | 259/352 [01:16<00:12,  7.32it/s]       \n",
      "Examining sphinxcontrib-jsmath:  74%|#######3  | 260/352 [01:16<00:12,  7.32it/s]\n",
      "Examining jdcal:  74%|#######4  | 261/352 [01:16<00:12,  7.32it/s]               \n",
      "Examining tbb:  74%|#######4  | 262/352 [01:16<00:12,  7.32it/s]  \n",
      "Examining tbb:  75%|#######4  | 263/352 [01:16<00:08, 10.13it/s]\n",
      "Examining gevent:  75%|#######4  | 263/352 [01:16<00:08, 10.13it/s]\n",
      "Examining decorator:  75%|#######5  | 264/352 [01:16<00:08, 10.13it/s]\n",
      "Examining bleach:  75%|#######5  | 265/352 [01:16<00:08, 10.13it/s]   \n",
      "Examining fbprophet:  76%|#######5  | 266/352 [01:17<00:08, 10.13it/s]\n",
      "Examining fbprophet:  76%|#######5  | 267/352 [01:17<00:12,  7.03it/s]\n",
      "Examining pytables:  76%|#######5  | 267/352 [01:17<00:12,  7.03it/s] \n",
      "Examining toolz:  76%|#######6  | 268/352 [01:18<00:11,  7.03it/s]   \n",
      "Examining freetype:  76%|#######6  | 269/352 [01:18<00:11,  7.03it/s]\n",
      "Examining freetype:  77%|#######6  | 270/352 [01:18<00:18,  4.41it/s]\n",
      "Examining convertdate:  77%|#######6  | 270/352 [01:18<00:18,  4.41it/s]\n",
      "Examining ruamel_yaml:  77%|#######6  | 271/352 [01:18<00:18,  4.41it/s]\n",
      "Examining zlib:  77%|#######7  | 272/352 [01:18<00:18,  4.41it/s]       \n",
      "Examining m2w64-windows-default-manifest:  78%|#######7  | 273/352 [01:18<00:17,  4.41it/s]\n",
      "Examining asn1crypto:  78%|#######7  | 274/352 [01:18<00:17,  4.41it/s]                    \n",
      "Examining numpy-base:  78%|#######8  | 275/352 [01:18<00:17,  4.41it/s]\n",
      "Examining backcall:  78%|#######8  | 276/352 [01:19<00:17,  4.41it/s]  \n",
      "Examining backcall:  79%|#######8  | 277/352 [01:19<00:13,  5.54it/s]\n",
      "Examining libssh2:  79%|#######8  | 277/352 [01:19<00:13,  5.54it/s] \n",
      "Examining pywin32-ctypes:  79%|#######8  | 278/352 [01:19<00:13,  5.54it/s]\n",
      "Examining sphinxcontrib-devhelp:  79%|#######9  | 279/352 [01:19<00:13,  5.54it/s]\n",
      "Examining m2w64-headers-git:  80%|#######9  | 280/352 [01:19<00:12,  5.54it/s]    \n",
      "Examining zeromq:  80%|#######9  | 281/352 [01:19<00:12,  5.54it/s]           \n",
      "Examining arviz:  80%|########  | 282/352 [01:19<00:12,  5.54it/s] \n",
      "Examining packaging:  80%|########  | 283/352 [01:19<00:12,  5.54it/s]\n",
      "Examining packaging:  81%|########  | 284/352 [01:19<00:09,  7.25it/s]\n",
      "Examining watchdog:  81%|########  | 284/352 [01:19<00:09,  7.25it/s] \n",
      "Examining jsonschema:  81%|########  | 285/352 [01:19<00:09,  7.25it/s]\n",
      "Examining sqlalchemy:  81%|########1 | 286/352 [01:19<00:09,  7.25it/s]\n",
      "Examining sqlalchemy:  82%|########1 | 287/352 [01:19<00:09,  6.83it/s]\n",
      "Examining scikit-image:  82%|########1 | 287/352 [01:19<00:09,  6.83it/s]\n",
      "Examining jupyterlab_server:  82%|########1 | 288/352 [01:21<00:09,  6.83it/s]\n",
      "Examining jupyterlab_server:  82%|########2 | 289/352 [01:21<00:24,  2.60it/s]\n",
      "Examining paramiko:  82%|########2 | 289/352 [01:22<00:24,  2.60it/s]         \n",
      "Examining unicodecsv:  82%|########2 | 290/352 [01:22<00:23,  2.60it/s]\n",
      "Examining unicodecsv:  83%|########2 | 291/352 [01:22<00:22,  2.70it/s]\n",
      "Examining multipledispatch:  83%|########2 | 291/352 [01:22<00:22,  2.70it/s]\n",
      "Examining anaconda-navigator:  83%|########2 | 292/352 [01:22<00:22,  2.70it/s]\n",
      "Examining keyring:  83%|########3 | 293/352 [01:24<00:21,  2.70it/s]           \n",
      "Examining keyring:  84%|########3 | 294/352 [01:24<00:26,  2.17it/s]\n",
      "Examining m2w64-gcc:  84%|########3 | 294/352 [01:24<00:26,  2.17it/s]\n",
      "Examining m2w64-gcc:  84%|########3 | 295/352 [01:24<00:22,  2.54it/s]\n",
      "Examining intervaltree:  84%|########3 | 295/352 [01:24<00:22,  2.54it/s]\n",
      "Examining pkginfo:  84%|########4 | 296/352 [01:24<00:22,  2.54it/s]     \n",
      "Examining nose:  84%|########4 | 297/352 [01:24<00:21,  2.54it/s]   \n",
      "Examining chardet:  85%|########4 | 298/352 [01:24<00:21,  2.54it/s]\n",
      "Examining chardet:  85%|########4 | 299/352 [01:24<00:15,  3.49it/s]\n",
      "Examining xarray:  85%|########4 | 299/352 [01:24<00:15,  3.49it/s] \n",
      "Examining tqdm:  85%|########5 | 300/352 [01:26<00:14,  3.49it/s]  \n",
      "Examining tqdm:  86%|########5 | 301/352 [01:26<00:20,  2.45it/s]\n",
      "Examining threadpoolctl:  86%|########5 | 301/352 [01:26<00:20,  2.45it/s]\n",
      "Examining threadpoolctl:  86%|########5 | 302/352 [01:26<00:17,  2.93it/s]\n",
      "Examining pysocks:  86%|########5 | 302/352 [01:26<00:17,  2.93it/s]      \n",
      "Examining h5py:  86%|########6 | 303/352 [01:26<00:16,  2.93it/s]   \n",
      "Examining toml:  86%|########6 | 304/352 [01:27<00:16,  2.93it/s]\n",
      "Examining toml:  87%|########6 | 305/352 [01:27<00:16,  2.88it/s]\n",
      "Examining m2w64-binutils:  87%|########6 | 305/352 [01:27<00:16,  2.88it/s]\n",
      "Examining colorama:  87%|########6 | 306/352 [01:27<00:15,  2.88it/s]      \n",
      "Examining path.py:  87%|########7 | 307/352 [01:27<00:15,  2.88it/s] \n",
      "Examining qtawesome:  88%|########7 | 308/352 [01:27<00:15,  2.88it/s]\n",
      "Examining qtawesome:  88%|########7 | 309/352 [01:27<00:10,  3.98it/s]\n",
      "Examining imagesize:  88%|########7 | 309/352 [01:27<00:10,  3.98it/s]\n",
      "Examining parso:  88%|########8 | 310/352 [01:27<00:10,  3.98it/s]    \n",
      "Examining parso:  88%|########8 | 311/352 [01:27<00:07,  5.13it/s]\n",
      "Examining xz:  88%|########8 | 311/352 [01:27<00:07,  5.13it/s]   \n",
      "Examining get_terminal_size:  89%|########8 | 312/352 [01:27<00:07,  5.13it/s]\n",
      "Examining cftime:  89%|########8 | 313/352 [01:27<00:07,  5.13it/s]           \n",
      "Examining powershell_shortcut:  89%|########9 | 314/352 [01:28<00:07,  5.13it/s]\n",
      "Examining powershell_shortcut:  89%|########9 | 315/352 [01:28<00:07,  5.10it/s]\n",
      "Examining fastcache:  89%|########9 | 315/352 [01:28<00:07,  5.10it/s]          \n",
      "Examining m2w64-gmp:  90%|########9 | 316/352 [01:28<00:07,  5.10it/s]\n",
      "Examining path:  90%|######### | 317/352 [01:28<00:06,  5.10it/s]     \n",
      "Examining holidays:  90%|######### | 318/352 [01:28<00:06,  5.10it/s]\n",
      "Examining m2w64-gcc-libs:  91%|######### | 319/352 [01:28<00:06,  5.10it/s]\n",
      "Examining m2w64-gcc-libs:  91%|######### | 320/352 [01:28<00:04,  6.98it/s]\n",
      "Examining python-dateutil:  91%|######### | 320/352 [01:28<00:04,  6.98it/s]\n",
      "Examining importlib_metadata:  91%|#########1| 321/352 [01:28<00:04,  6.98it/s]\n",
      "Examining sortedcontainers:  91%|#########1| 322/352 [01:28<00:04,  6.98it/s]  \n",
      "Examining sortedcontainers:  92%|#########1| 323/352 [01:28<00:03,  8.95it/s]\n",
      "Examining singledispatch:  92%|#########1| 323/352 [01:28<00:03,  8.95it/s]  \n",
      "Examining comtypes:  92%|#########2| 324/352 [01:28<00:03,  8.95it/s]      \n",
      "Examining korean_lunar_calendar:  92%|#########2| 325/352 [01:28<00:03,  8.95it/s]\n",
      "Examining wrapt:  93%|#########2| 326/352 [01:28<00:02,  8.95it/s]                \n",
      "Examining m2w64-libwinpthread-git:  93%|#########2| 327/352 [01:28<00:02,  8.95it/s]\n",
      "Examining m2w64-libwinpthread-git:  93%|#########3| 328/352 [01:28<00:02, 11.73it/s]\n",
      "Examining m2w64-tools-git:  93%|#########3| 328/352 [01:28<00:02, 11.73it/s]        \n",
      "Examining pystan:  93%|#########3| 329/352 [01:28<00:01, 11.73it/s]         \n",
      "Examining wheel:  94%|#########3| 330/352 [01:29<00:01, 11.73it/s] \n",
      "Examining wheel:  94%|#########4| 331/352 [01:29<00:02,  7.46it/s]\n",
      "Examining backports.shutil_get_terminal_size:  94%|#########4| 331/352 [01:29<00:02,  7.46it/s]\n",
      "Examining bcrypt:  94%|#########4| 332/352 [01:29<00:02,  7.46it/s]                            \n",
      "Examining mock:  95%|#########4| 333/352 [01:30<00:02,  7.46it/s]  \n",
      "Examining mock:  95%|#########4| 334/352 [01:30<00:02,  6.30it/s]\n",
      "Examining sphinxcontrib:  95%|#########4| 334/352 [01:30<00:02,  6.30it/s]\n",
      "Examining m2w64-zlib:  95%|#########5| 335/352 [01:30<00:02,  6.30it/s]   \n",
      "Examining brotlipy:  95%|#########5| 336/352 [01:30<00:02,  6.30it/s]  \n",
      "Examining argh:  96%|#########5| 337/352 [01:30<00:02,  6.30it/s]    \n",
      "Examining jupyter:  96%|#########6| 338/352 [01:30<00:02,  6.30it/s]\n",
      "Examining diff-match-patch:  96%|#########6| 339/352 [01:31<00:02,  6.30it/s]\n",
      "Examining diff-match-patch:  97%|#########6| 340/352 [01:31<00:01,  6.11it/s]\n",
      "Examining numexpr:  97%|#########6| 340/352 [01:31<00:01,  6.11it/s]         \n",
      "Examining m2w64-winpthreads-git:  97%|#########6| 341/352 [01:32<00:01,  6.11it/s]\n",
      "Examining m2w64-winpthreads-git:  97%|#########7| 342/352 [01:32<00:02,  4.18it/s]\n",
      "Examining joblib:  97%|#########7| 342/352 [01:32<00:02,  4.18it/s]               \n",
      "Examining conda-package-handling:  97%|#########7| 343/352 [01:32<00:02,  4.18it/s]\n",
      "Examining conda-package-handling:  98%|#########7| 344/352 [01:32<00:01,  5.37it/s]\n",
      "Examining networkx:  98%|#########7| 344/352 [01:32<00:01,  5.37it/s]              \n",
      "Examining scipy:  98%|#########8| 345/352 [01:32<00:01,  5.37it/s]   \n",
      "Examining scipy:  98%|#########8| 346/352 [01:32<00:01,  5.57it/s]\n",
      "Examining py-lief:  98%|#########8| 346/352 [01:33<00:01,  5.57it/s]\n",
      "Examining sortedcollections:  99%|#########8| 347/352 [01:33<00:00,  5.57it/s]\n",
      "Examining sortedcollections:  99%|#########8| 348/352 [01:33<00:01,  3.62it/s]\n",
      "Examining libpython:  99%|#########8| 348/352 [01:33<00:01,  3.62it/s]        \n",
      "Examining dask:  99%|#########9| 349/352 [01:33<00:00,  3.62it/s]     \n",
      "Examining @/win-64::__cuda==11.0=0:  99%|#########9| 350/352 [01:43<00:00,  3.62it/s]\n",
      "Examining @/win-64::__cuda==11.0=0: 100%|#########9| 351/352 [01:43<00:01,  1.24s/it]\n",
      "Examining blas: 100%|#########9| 351/352 [01:43<00:01,  1.24s/it]                    \n",
      "                                                                 \n",
      "\n",
      "Determining conflicts:   0%|          | 0/352 [00:00<?, ?it/s]\n",
      "Examining conflict for python-language-server anaconda flake8 spyder:   0%|          | 0/352 [00:00<?, ?it/s]\n",
      "Examining conflict for flake8 spyder anaconda mccabe pylint python-language-server:   0%|          | 1/352 [00:05<33:27,  5.72s/it]\n",
      "Examining conflict for flake8 spyder anaconda mccabe pylint python-language-server:   1%|          | 2/352 [00:05<16:40,  2.86s/it]\n",
      "Examining conflict for flake8 autopep8 spyder anaconda pycodestyle python-language-server:   1%|          | 2/352 [00:11<16:40,  2.86s/it]\n",
      "Examining conflict for flake8 autopep8 spyder anaconda pycodestyle python-language-server:   1%|          | 3/352 [00:11<21:07,  3.63s/it]\n",
      "Examining conflict for flake8 statsmodels atomicwrites qt hdf5 jpeg itsdangerous qdarkstyle nbconvert heapdict cffi ipywidgets krb5 zope python pytorch ply pathlib2 send2trash pytest lz4-c simplegeneric jedi sip pycparser pyparsing pytz mkl_fft conda gmpy2 yaml autopep8 rtree pynacl pylint win_unicode_console mpfr libllvm9 mccabe win_inet_pton xlwings pywinpty click spyder lazy-object-proxy pyqt sphinxcontrib-qthelp backports.functools_lru_cache clyent ninja blosc dask-core numba libtiff tk pyodbc distributed jupyter_client pyrsistent idna pickleshare ipython matplotlib six pycurl docutils jinja2 astropy libxml2 tornado numpydoc testpath ipython_genutils numpy graphviz pymeeus zope.interface pexpect curl bottleneck winpty pyreadline libsodium boto pep8 _ipyw_jlab_nb_ext_conf html5lib jupyter_console mpc mpir console_shortcut snappy matplotlib-base sympy libarchive python-libarchive-c mkl_random wcwidth greenlet pyyaml pathtools certifi attrs nltk snowballstemmer partd future mistune traitlets liblief bkcharts fsspec yapf anaconda-client ipykernel setuptools filelock qtconsole pycosat pluggy pyflakes kiwisolver backports.weakref typing_extensions imageio patsy backports isort alabaster notebook python-jsonrpc-server sphinxcontrib-serializinghtml libpng psutil urllib3 nbformat scikit-learn bzip2 llvmlite xlrd conda-build bokeh flask astroid libcurl cycler conda-verify xmltodict anaconda cryptography tblib werkzeug terminado ephem prometheus_client pygments pillow pyopenssl zope.event zipp vc cloudpickle bitarray pydocstyle spacy rope prompt-toolkit pywavelets backports.tempfile jupyterlab python-language-server anaconda-project importlib-metadata sqlite ujson pycodestyle sphinx pandas py icu qtpy libxslt xlsxwriter lunarcalendar babel zstd webencodings regex cytoolz pandocfilters sphinxcontrib-applehelp soupsieve widgetsnbextension wincertstore libnetcdf menuinst spyder-kernels olefile json5 pywin32 libiconv jupyter_core contextlib2 hdf4 more-itertools defusedxml python_abi openssl lzo netcdf4 sphinxcontrib-websupport msgpack-python lxml markupsafe pyzmq sphinxcontrib-htmlhelp pip seaborn zict beautifulsoup4 requests mpmath cython entrypoints mkl-service prompt_toolkit openpyxl glob2 libspatialindex locket xlwt navigator-updater et_xmlfile sphinxcontrib-jsmath jdcal tbb gevent decorator bleach fbprophet pytables toolz freetype convertdate ruamel_yaml zlib asn1crypto numpy-base backcall libssh2 pywin32-ctypes sphinxcontrib-devhelp zeromq arviz packaging watchdog jsonschema sqlalchemy scikit-image jupyterlab_server paramiko unicodecsv multipledispatch anaconda-navigator keyring intervaltree pkginfo nose chardet xarray tqdm threadpoolctl pysocks h5py toml colorama path.py qtawesome imagesize parso xz cftime powershell_shortcut fastcache path holidays python-dateutil importlib_metadata sortedcontainers singledispatch comtypes korean_lunar_calendar wrapt pystan wheel backports.shutil_get_terminal_size bcrypt mock sphinxcontrib brotlipy argh jupyter diff-match-patch numexpr joblib conda-package-handling networkx scipy py-lief sortedcollections libpython dask:   1%|          | 3/352 [00:16<21:07,  3.63s/it]\n",
      "Examining conflict for flake8 statsmodels atomicwrites qt hdf5 jpeg itsdangerous qdarkstyle nbconvert heapdict cffi ipywidgets krb5 zope python pytorch ply pathlib2 send2trash pytest lz4-c simplegeneric jedi sip pycparser pyparsing pytz mkl_fft conda gmpy2 yaml autopep8 rtree pynacl pylint win_unicode_console mpfr libllvm9 mccabe win_inet_pton xlwings pywinpty click spyder lazy-object-proxy pyqt sphinxcontrib-qthelp backports.functools_lru_cache clyent ninja blosc dask-core numba libtiff tk pyodbc distributed jupyter_client pyrsistent idna pickleshare ipython matplotlib six pycurl docutils jinja2 astropy libxml2 tornado numpydoc testpath ipython_genutils numpy graphviz pymeeus zope.interface pexpect curl bottleneck winpty pyreadline libsodium boto pep8 _ipyw_jlab_nb_ext_conf html5lib jupyter_console mpc mpir console_shortcut snappy matplotlib-base sympy libarchive python-libarchive-c mkl_random wcwidth greenlet pyyaml pathtools certifi attrs nltk snowballstemmer partd future mistune traitlets liblief bkcharts fsspec yapf anaconda-client ipykernel setuptools filelock qtconsole pycosat pluggy pyflakes kiwisolver backports.weakref typing_extensions imageio patsy backports isort alabaster notebook python-jsonrpc-server sphinxcontrib-serializinghtml libpng psutil urllib3 nbformat scikit-learn bzip2 llvmlite xlrd conda-build bokeh flask astroid libcurl cycler conda-verify xmltodict anaconda cryptography tblib werkzeug terminado ephem prometheus_client pygments pillow pyopenssl zope.event zipp vc cloudpickle bitarray pydocstyle spacy rope prompt-toolkit pywavelets backports.tempfile jupyterlab python-language-server anaconda-project importlib-metadata sqlite ujson pycodestyle sphinx pandas py icu qtpy libxslt xlsxwriter lunarcalendar babel zstd webencodings regex cytoolz pandocfilters sphinxcontrib-applehelp soupsieve widgetsnbextension wincertstore libnetcdf menuinst spyder-kernels olefile json5 pywin32 libiconv jupyter_core contextlib2 hdf4 more-itertools defusedxml python_abi openssl lzo netcdf4 sphinxcontrib-websupport msgpack-python lxml markupsafe pyzmq sphinxcontrib-htmlhelp pip seaborn zict beautifulsoup4 requests mpmath cython entrypoints mkl-service prompt_toolkit openpyxl glob2 libspatialindex locket xlwt navigator-updater et_xmlfile sphinxcontrib-jsmath jdcal tbb gevent decorator bleach fbprophet pytables toolz freetype convertdate ruamel_yaml zlib asn1crypto numpy-base backcall libssh2 pywin32-ctypes sphinxcontrib-devhelp zeromq arviz packaging watchdog jsonschema sqlalchemy scikit-image jupyterlab_server paramiko unicodecsv multipledispatch anaconda-navigator keyring intervaltree pkginfo nose chardet xarray tqdm threadpoolctl pysocks h5py toml colorama path.py qtawesome imagesize parso xz cftime powershell_shortcut fastcache path holidays python-dateutil importlib_metadata sortedcontainers singledispatch comtypes korean_lunar_calendar wrapt pystan wheel backports.shutil_get_terminal_size bcrypt mock sphinxcontrib brotlipy argh jupyter diff-match-patch numexpr joblib conda-package-handling networkx scipy py-lief sortedcollections libpython dask:   1%|1         | 4/352 [00:16<24:21,  4.20s/it]\n",
      "Examining conflict for seaborn pystan flake8 bokeh nbformat nltk spyder jsonschema matplotlib scikit-image jupyterlab_server python-language-server spacy:   1%|1         | 4/352 [00:32<24:21,  4.20s/it]                                                                                                                                                                                                                                                                                                                                                                                                                                                                                                                                                                                                                                                                                                                                                                                                                                                                                                                                                                                                                                                                                                                                                                                                                                                                                                                                                                                                                                                                                                                                                                                                                                                                                                                                                                                                                                                                                                                                                                                                                                                                                                                                                                                                                                                                                                                                                                                                                                                                                                                                                                                                                                                                                                                                                                                                                                                                                                                                                                                                                                                                         \n",
      "Examining conflict for seaborn pystan flake8 bokeh nbformat nltk spyder jsonschema matplotlib scikit-image jupyterlab_server python-language-server spacy:   1%|1         | 5/352 [00:32<44:07,  7.63s/it]\n",
      "Examining conflict for pymeeus tblib zope.interface navigator-updater flake8 et_xmlfile pexpect sphinxcontrib-jsmath curl jdcal statsmodels werkzeug bottleneck terminado gevent ephem decorator atomicwrites qt prometheus_client bleach fbprophet pytables itsdangerous toolz convertdate ruamel_yaml pygments pillow pyreadline qdarkstyle pyopenssl boto nbconvert asn1crypto zope.event heapdict zipp cloudpickle pep8 numpy-base _ipyw_jlab_nb_ext_conf bitarray pydocstyle backcall libssh2 spacy html5lib rope jupyter_console pywin32-ctypes cffi ipywidgets krb5 console_shortcut prompt-toolkit pywavelets backports.tempfile sphinxcontrib-devhelp matplotlib-base jupyterlab arviz zope python-language-server python sympy libarchive packaging pytorch ply python-libarchive-c pathlib2 watchdog mkl_random wcwidth anaconda-project send2trash greenlet importlib-metadata pytest jsonschema simplegeneric pyyaml pathtools jedi ujson sqlalchemy scikit-image certifi pycodestyle jupyterlab_server paramiko unicodecsv sphinx multipledispatch pandas anaconda-navigator py sip pycparser pyparsing pytz attrs nltk keyring mkl_fft snowballstemmer conda partd qtpy gmpy2 intervaltree pkginfo future mistune autopep8 rtree nose xlsxwriter pynacl lunarcalendar traitlets chardet pylint babel xarray bkcharts fsspec webencodings yapf win_unicode_console regex tqdm threadpoolctl pysocks cytoolz pandocfilters h5py anaconda-client ipykernel sphinxcontrib-applehelp mccabe setuptools win_inet_pton filelock soupsieve widgetsnbextension toml xlwings wincertstore pywinpty qtconsole colorama path.py qtawesome imagesize click parso spyder cftime lazy-object-proxy menuinst pycosat spyder-kernels pyqt pluggy powershell_shortcut pyflakes olefile fastcache sphinxcontrib-qthelp json5 path pywin32 holidays backports.functools_lru_cache kiwisolver backports.weakref typing_extensions clyent jupyter_core ninja contextlib2 python-dateutil dask-core imageio importlib_metadata numba sortedcontainers singledispatch patsy comtypes korean_lunar_calendar more-itertools defusedxml python_abi backports wrapt isort alabaster notebook pyodbc python-jsonrpc-server openssl netcdf4 sphinxcontrib-serializinghtml pystan wheel distributed jupyter_client psutil urllib3 sphinxcontrib-websupport msgpack-python nbformat backports.shutil_get_terminal_size pyrsistent idna lxml markupsafe pyzmq sphinxcontrib-htmlhelp pickleshare pip seaborn bcrypt mock scikit-learn sphinxcontrib llvmlite ipython matplotlib xlrd brotlipy zict six conda-build argh beautifulsoup4 requests jupyter bokeh diff-match-patch pycurl numexpr flask docutils astroid mpmath cython jinja2 entrypoints joblib astropy libcurl conda-package-handling tornado mkl-service prompt_toolkit networkx scipy cycler conda-verify numpydoc testpath openpyxl glob2 py-lief sortedcollections libpython dask ipython_genutils numpy xmltodict anaconda locket cryptography xlwt:   1%|1         | 5/352 [00:34<44:07,  7.63s/it]\n",
      "Examining conflict for pymeeus tblib zope.interface navigator-updater flake8 et_xmlfile pexpect sphinxcontrib-jsmath curl jdcal statsmodels werkzeug bottleneck terminado gevent ephem decorator atomicwrites qt prometheus_client bleach fbprophet pytables itsdangerous toolz convertdate ruamel_yaml pygments pillow pyreadline qdarkstyle pyopenssl boto nbconvert asn1crypto zope.event heapdict zipp cloudpickle pep8 numpy-base _ipyw_jlab_nb_ext_conf bitarray pydocstyle backcall libssh2 spacy html5lib rope jupyter_console pywin32-ctypes cffi ipywidgets krb5 console_shortcut prompt-toolkit pywavelets backports.tempfile sphinxcontrib-devhelp matplotlib-base jupyterlab arviz zope python-language-server python sympy libarchive packaging pytorch ply python-libarchive-c pathlib2 watchdog mkl_random wcwidth anaconda-project send2trash greenlet importlib-metadata pytest jsonschema simplegeneric pyyaml pathtools jedi ujson sqlalchemy scikit-image certifi pycodestyle jupyterlab_server paramiko unicodecsv sphinx multipledispatch pandas anaconda-navigator py sip pycparser pyparsing pytz attrs nltk keyring mkl_fft snowballstemmer conda partd qtpy gmpy2 intervaltree pkginfo future mistune autopep8 rtree nose xlsxwriter pynacl lunarcalendar traitlets chardet pylint babel xarray bkcharts fsspec webencodings yapf win_unicode_console regex tqdm threadpoolctl pysocks cytoolz pandocfilters h5py anaconda-client ipykernel sphinxcontrib-applehelp mccabe setuptools win_inet_pton filelock soupsieve widgetsnbextension toml xlwings wincertstore pywinpty qtconsole colorama path.py qtawesome imagesize click parso spyder cftime lazy-object-proxy menuinst pycosat spyder-kernels pyqt pluggy powershell_shortcut pyflakes olefile fastcache sphinxcontrib-qthelp json5 path pywin32 holidays backports.functools_lru_cache kiwisolver backports.weakref typing_extensions clyent jupyter_core ninja contextlib2 python-dateutil dask-core imageio importlib_metadata numba sortedcontainers singledispatch patsy comtypes korean_lunar_calendar more-itertools defusedxml python_abi backports wrapt isort alabaster notebook pyodbc python-jsonrpc-server openssl netcdf4 sphinxcontrib-serializinghtml pystan wheel distributed jupyter_client psutil urllib3 sphinxcontrib-websupport msgpack-python nbformat backports.shutil_get_terminal_size pyrsistent idna lxml markupsafe pyzmq sphinxcontrib-htmlhelp pickleshare pip seaborn bcrypt mock scikit-learn sphinxcontrib llvmlite ipython matplotlib xlrd brotlipy zict six conda-build argh beautifulsoup4 requests jupyter bokeh diff-match-patch pycurl numexpr flask docutils astroid mpmath cython jinja2 entrypoints joblib astropy libcurl conda-package-handling tornado mkl-service prompt_toolkit networkx scipy cycler conda-verify numpydoc testpath openpyxl glob2 py-lief sortedcollections libpython dask ipython_genutils numpy xmltodict anaconda locket cryptography xlwt:   2%|1         | 6/352 [00:34<34:13,  5.94s/it]\n",
      "Examining conflict for flake8 spyder anaconda pyflakes python-language-server:   2%|1         | 6/352 [00:51<34:13,  5.94s/it]                                                                                                                                                                                                                                                                                                                                                                                                                                                                                                                                                                                                                                                                                                                                                                                                                                                                                                                                                                                                                                                                                                                                                                                                                                                                                                                                                                                                                                                                                                                                                                                                                                                                                                                                                                                                                                                                                                                                                                                                                                                                                                                                                                                                                                                                                                                                                                                                                                                                                                                                                                                                                                                                                                                                                                                                                                                                                                                       \n",
      "Examining conflict for flake8 spyder anaconda pyflakes python-language-server:   2%|1         | 7/352 [00:51<53:34,  9.32s/it]\n",
      "Examining conflict for pymeeus tblib zope.interface navigator-updater flake8 et_xmlfile pexpect sphinxcontrib-jsmath jdcal statsmodels werkzeug bottleneck terminado gevent ephem decorator atomicwrites qt prometheus_client bleach fbprophet pytables itsdangerous toolz convertdate ruamel_yaml pygments pillow pyreadline qdarkstyle pyopenssl boto nbconvert asn1crypto zope.event heapdict zipp cloudpickle pep8 numpy-base _ipyw_jlab_nb_ext_conf bitarray pydocstyle backcall spacy html5lib rope jupyter_console pywin32-ctypes cffi ipywidgets console_shortcut prompt-toolkit pywavelets backports.tempfile sphinxcontrib-devhelp matplotlib-base jupyterlab arviz zope python-language-server python sympy packaging pytorch ply python-libarchive-c pathlib2 watchdog mkl_random wcwidth anaconda-project send2trash greenlet importlib-metadata pytest sqlite simplegeneric pyyaml pathtools jedi ujson sqlalchemy scikit-image certifi pycodestyle jupyterlab_server paramiko unicodecsv sphinx multipledispatch pandas anaconda-navigator py sip pycparser pyparsing pytz attrs nltk keyring mkl_fft snowballstemmer conda partd qtpy gmpy2 intervaltree pkginfo future mistune autopep8 rtree nose xlsxwriter pynacl lunarcalendar traitlets chardet pylint babel xarray bkcharts fsspec webencodings yapf win_unicode_console regex tqdm threadpoolctl pysocks cytoolz pandocfilters h5py anaconda-client ipykernel sphinxcontrib-applehelp mccabe setuptools win_inet_pton filelock soupsieve widgetsnbextension toml xlwings wincertstore pywinpty qtconsole colorama path.py qtawesome imagesize click parso spyder cftime lazy-object-proxy menuinst pycosat spyder-kernels pyqt pluggy powershell_shortcut pyflakes olefile fastcache sphinxcontrib-qthelp json5 path pywin32 holidays backports.functools_lru_cache kiwisolver backports.weakref typing_extensions clyent jupyter_core ninja contextlib2 python-dateutil dask-core imageio importlib_metadata numba sortedcontainers singledispatch patsy comtypes korean_lunar_calendar more-itertools defusedxml python_abi backports wrapt isort alabaster notebook pyodbc python-jsonrpc-server netcdf4 sphinxcontrib-serializinghtml pystan wheel distributed jupyter_client psutil urllib3 sphinxcontrib-websupport msgpack-python nbformat backports.shutil_get_terminal_size pyrsistent idna lxml markupsafe pyzmq sphinxcontrib-htmlhelp jsonschema pickleshare pip seaborn bcrypt mock scikit-learn sphinxcontrib llvmlite ipython matplotlib xlrd brotlipy zict six conda-build argh beautifulsoup4 requests jupyter bokeh diff-match-patch pycurl numexpr flask docutils astroid mpmath cython jinja2 entrypoints joblib astropy conda-package-handling tornado mkl-service prompt_toolkit networkx scipy cycler conda-verify numpydoc testpath openpyxl glob2 py-lief sortedcollections libpython dask ipython_genutils numpy xmltodict anaconda locket cryptography xlwt:   2%|1         | 7/352 [00:57<53:34,  9.32s/it]\n",
      "Examining conflict for pymeeus tblib zope.interface navigator-updater flake8 et_xmlfile pexpect sphinxcontrib-jsmath jdcal statsmodels werkzeug bottleneck terminado gevent ephem decorator atomicwrites qt prometheus_client bleach fbprophet pytables itsdangerous toolz convertdate ruamel_yaml pygments pillow pyreadline qdarkstyle pyopenssl boto nbconvert asn1crypto zope.event heapdict zipp cloudpickle pep8 numpy-base _ipyw_jlab_nb_ext_conf bitarray pydocstyle backcall spacy html5lib rope jupyter_console pywin32-ctypes cffi ipywidgets console_shortcut prompt-toolkit pywavelets backports.tempfile sphinxcontrib-devhelp matplotlib-base jupyterlab arviz zope python-language-server python sympy packaging pytorch ply python-libarchive-c pathlib2 watchdog mkl_random wcwidth anaconda-project send2trash greenlet importlib-metadata pytest sqlite simplegeneric pyyaml pathtools jedi ujson sqlalchemy scikit-image certifi pycodestyle jupyterlab_server paramiko unicodecsv sphinx multipledispatch pandas anaconda-navigator py sip pycparser pyparsing pytz attrs nltk keyring mkl_fft snowballstemmer conda partd qtpy gmpy2 intervaltree pkginfo future mistune autopep8 rtree nose xlsxwriter pynacl lunarcalendar traitlets chardet pylint babel xarray bkcharts fsspec webencodings yapf win_unicode_console regex tqdm threadpoolctl pysocks cytoolz pandocfilters h5py anaconda-client ipykernel sphinxcontrib-applehelp mccabe setuptools win_inet_pton filelock soupsieve widgetsnbextension toml xlwings wincertstore pywinpty qtconsole colorama path.py qtawesome imagesize click parso spyder cftime lazy-object-proxy menuinst pycosat spyder-kernels pyqt pluggy powershell_shortcut pyflakes olefile fastcache sphinxcontrib-qthelp json5 path pywin32 holidays backports.functools_lru_cache kiwisolver backports.weakref typing_extensions clyent jupyter_core ninja contextlib2 python-dateutil dask-core imageio importlib_metadata numba sortedcontainers singledispatch patsy comtypes korean_lunar_calendar more-itertools defusedxml python_abi backports wrapt isort alabaster notebook pyodbc python-jsonrpc-server netcdf4 sphinxcontrib-serializinghtml pystan wheel distributed jupyter_client psutil urllib3 sphinxcontrib-websupport msgpack-python nbformat backports.shutil_get_terminal_size pyrsistent idna lxml markupsafe pyzmq sphinxcontrib-htmlhelp jsonschema pickleshare pip seaborn bcrypt mock scikit-learn sphinxcontrib llvmlite ipython matplotlib xlrd brotlipy zict six conda-build argh beautifulsoup4 requests jupyter bokeh diff-match-patch pycurl numexpr flask docutils astroid mpmath cython jinja2 entrypoints joblib astropy conda-package-handling tornado mkl-service prompt_toolkit networkx scipy cycler conda-verify numpydoc testpath openpyxl glob2 py-lief sortedcollections libpython dask ipython_genutils numpy xmltodict anaconda locket cryptography xlwt:   2%|2         | 8/352 [00:57<47:36,  8.30s/it]\n",
      "Examining conflict for pymeeus tblib zope.interface navigator-updater flake8 et_xmlfile pexpect sphinxcontrib-jsmath jdcal statsmodels werkzeug bottleneck terminado gevent ephem decorator atomicwrites prometheus_client bleach fbprophet pytables itsdangerous toolz convertdate ruamel_yaml pygments pillow pyreadline qdarkstyle pyopenssl boto nbconvert asn1crypto zope.event heapdict zipp cloudpickle pep8 numpy-base _ipyw_jlab_nb_ext_conf bitarray pydocstyle backcall spacy html5lib rope jupyter_console pywin32-ctypes cffi ipywidgets console_shortcut prompt-toolkit pywavelets backports.tempfile sphinxcontrib-devhelp matplotlib-base jupyterlab arviz zope python-language-server python sympy packaging pytorch ply python-libarchive-c pathlib2 watchdog mkl_random wcwidth anaconda-project send2trash greenlet importlib-metadata pytest jsonschema simplegeneric pyyaml pathtools jedi ujson sqlalchemy scikit-image certifi pycodestyle jupyterlab_server paramiko unicodecsv sphinx multipledispatch pandas anaconda-navigator py sip pycparser pyparsing pytz attrs nltk keyring mkl_fft snowballstemmer conda partd qtpy gmpy2 intervaltree pkginfo future mistune autopep8 rtree nose xlsxwriter pynacl lunarcalendar traitlets chardet pylint babel xarray bkcharts fsspec webencodings yapf win_unicode_console regex tqdm threadpoolctl pysocks cytoolz pandocfilters h5py anaconda-client ipykernel sphinxcontrib-applehelp mccabe setuptools win_inet_pton filelock soupsieve widgetsnbextension toml xlwings wincertstore pywinpty qtconsole colorama path.py qtawesome imagesize click parso get_terminal_size spyder cftime lazy-object-proxy menuinst pycosat spyder-kernels pyqt pluggy powershell_shortcut pyflakes olefile fastcache sphinxcontrib-qthelp json5 path pywin32 holidays backports.functools_lru_cache kiwisolver backports.weakref typing_extensions clyent jupyter_core ninja contextlib2 python-dateutil dask-core imageio importlib_metadata numba sortedcontainers singledispatch patsy comtypes korean_lunar_calendar more-itertools defusedxml python_abi backports wrapt isort alabaster notebook pyodbc python-jsonrpc-server netcdf4 sphinxcontrib-serializinghtml pystan wheel distributed jupyter_client psutil urllib3 sphinxcontrib-websupport msgpack-python nbformat backports.shutil_get_terminal_size pyrsistent idna lxml markupsafe pyzmq sphinxcontrib-htmlhelp pickleshare pip seaborn bcrypt mock scikit-learn sphinxcontrib llvmlite ipython matplotlib xlrd brotlipy zict six conda-build argh beautifulsoup4 requests jupyter bokeh diff-match-patch pycurl numexpr flask docutils astroid mpmath cython jinja2 entrypoints joblib astropy conda-package-handling tornado mkl-service prompt_toolkit networkx scipy cycler conda-verify numpydoc testpath openpyxl glob2 py-lief sortedcollections libpython dask ipython_genutils numpy xmltodict anaconda locket cryptography xlwt:   2%|2         | 8/352 [01:15<47:36,  8.30s/it]\n",
      "Examining conflict for pymeeus tblib zope.interface navigator-updater flake8 et_xmlfile pexpect sphinxcontrib-jsmath jdcal statsmodels werkzeug bottleneck terminado gevent ephem decorator atomicwrites prometheus_client bleach fbprophet pytables itsdangerous toolz convertdate ruamel_yaml pygments pillow pyreadline qdarkstyle pyopenssl boto nbconvert asn1crypto zope.event heapdict zipp cloudpickle pep8 numpy-base _ipyw_jlab_nb_ext_conf bitarray pydocstyle backcall spacy html5lib rope jupyter_console pywin32-ctypes cffi ipywidgets console_shortcut prompt-toolkit pywavelets backports.tempfile sphinxcontrib-devhelp matplotlib-base jupyterlab arviz zope python-language-server python sympy packaging pytorch ply python-libarchive-c pathlib2 watchdog mkl_random wcwidth anaconda-project send2trash greenlet importlib-metadata pytest jsonschema simplegeneric pyyaml pathtools jedi ujson sqlalchemy scikit-image certifi pycodestyle jupyterlab_server paramiko unicodecsv sphinx multipledispatch pandas anaconda-navigator py sip pycparser pyparsing pytz attrs nltk keyring mkl_fft snowballstemmer conda partd qtpy gmpy2 intervaltree pkginfo future mistune autopep8 rtree nose xlsxwriter pynacl lunarcalendar traitlets chardet pylint babel xarray bkcharts fsspec webencodings yapf win_unicode_console regex tqdm threadpoolctl pysocks cytoolz pandocfilters h5py anaconda-client ipykernel sphinxcontrib-applehelp mccabe setuptools win_inet_pton filelock soupsieve widgetsnbextension toml xlwings wincertstore pywinpty qtconsole colorama path.py qtawesome imagesize click parso get_terminal_size spyder cftime lazy-object-proxy menuinst pycosat spyder-kernels pyqt pluggy powershell_shortcut pyflakes olefile fastcache sphinxcontrib-qthelp json5 path pywin32 holidays backports.functools_lru_cache kiwisolver backports.weakref typing_extensions clyent jupyter_core ninja contextlib2 python-dateutil dask-core imageio importlib_metadata numba sortedcontainers singledispatch patsy comtypes korean_lunar_calendar more-itertools defusedxml python_abi backports wrapt isort alabaster notebook pyodbc python-jsonrpc-server netcdf4 sphinxcontrib-serializinghtml pystan wheel distributed jupyter_client psutil urllib3 sphinxcontrib-websupport msgpack-python nbformat backports.shutil_get_terminal_size pyrsistent idna lxml markupsafe pyzmq sphinxcontrib-htmlhelp pickleshare pip seaborn bcrypt mock scikit-learn sphinxcontrib llvmlite ipython matplotlib xlrd brotlipy zict six conda-build argh beautifulsoup4 requests jupyter bokeh diff-match-patch pycurl numexpr flask docutils astroid mpmath cython jinja2 entrypoints joblib astropy conda-package-handling tornado mkl-service prompt_toolkit networkx scipy cycler conda-verify numpydoc testpath openpyxl glob2 py-lief sortedcollections libpython dask ipython_genutils numpy xmltodict anaconda locket cryptography xlwt:   3%|2         | 9/352 [01:15<1:03:44, 11.15s/it]\n",
      "Examining conflict for sympy zope.interface flake8 anaconda-project jsonschema spyder pytest ipython matplotlib terminado gevent pyflakes certifi conda-build scikit-image bleach fbprophet jupyterlab_server sphinx requests bokeh anaconda-navigator backports.functools_lru_cache clyent astroid nltk pygments conda jinja2 cython joblib astropy numba tornado networkx nose zope.event isort notebook xarray spacy netcdf4 pystan wheel distributed jupyter_client urllib3 anaconda-client ipykernel anaconda setuptools matplotlib-base jupyterlab arviz python-language-server pip pywinpty:   3%|2         | 9/352 [01:30<1:03:44, 11.15s/it]                                                                                                                                                                                                                                                                                                                                                                                                                                                                                                                                                                                                                                                                                                                                                                                                                                                                                                                                                                                                                                                                                                                                                                                                                                                                                                                                                                                                                                                                                                                                                                                                                                                                                                                                                                                                                                                                                                                                                                                                                                                                                                                                                                                                                                                                                                                                                                    \n",
      "Examining conflict for sympy zope.interface flake8 anaconda-project jsonschema spyder pytest ipython matplotlib terminado gevent pyflakes certifi conda-build scikit-image bleach fbprophet jupyterlab_server sphinx requests bokeh anaconda-navigator backports.functools_lru_cache clyent astroid nltk pygments conda jinja2 cython joblib astropy numba tornado networkx nose zope.event isort notebook xarray spacy netcdf4 pystan wheel distributed jupyter_client urllib3 anaconda-client ipykernel anaconda setuptools matplotlib-base jupyterlab arviz python-language-server pip pywinpty:   3%|2         | 10/352 [01:30<1:11:12, 12.49s/it]\n",
      "Examining conflict for sympy zope.interface flake8 jsonschema spyder pytest ipython matplotlib gevent pyflakes conda-build bleach fbprophet sphinx anaconda-navigator backports.functools_lru_cache clyent astroid pygments conda jinja2 cython joblib astropy numba networkx nose zope.event isort xarray netcdf4 pystan wheel distributed anaconda-client anaconda setuptools matplotlib-base python-language-server pip wincertstore pywinpty:   3%|2         | 10/352 [01:40<1:11:12, 12.49s/it]                                                                                                                                                  \n",
      "Examining conflict for sympy zope.interface flake8 jsonschema spyder pytest ipython matplotlib gevent pyflakes conda-build bleach fbprophet sphinx anaconda-navigator backports.functools_lru_cache clyent astroid pygments conda jinja2 cython joblib astropy numba networkx nose zope.event isort xarray netcdf4 pystan wheel distributed anaconda-client anaconda setuptools matplotlib-base python-language-server pip wincertstore pywinpty:   3%|3         | 11/352 [01:40<1:06:16, 11.66s/it]\n",
      "Examining conflict for qtconsole sympy zope.interface seaborn flake8 scikit-learn bcrypt anaconda-project jsonschema spyder pytest ipython matplotlib spyder-kernels terminado gevent pyflakes scikit-image conda-build jupyterlab_server bleach fbprophet sphinx bokeh anaconda-navigator backports.functools_lru_cache flask attrs clyent astroid nltk pygments conda jinja2 cython joblib astropy numba python prompt_toolkit nbconvert networkx nose zope.event conda-verify numpydoc isort notebook pylint xarray dask spacy netcdf4 pystan wheel distributed jupyter_console prompt-toolkit ipywidgets nbformat anaconda-client ipykernel anaconda setuptools soupsieve matplotlib-base jupyterlab arviz python-language-server pip pywinpty:   3%|3         | 11/352 [01:48<1:06:16, 11.66s/it]\n",
      "Examining conflict for qtconsole sympy zope.interface seaborn flake8 scikit-learn bcrypt anaconda-project jsonschema spyder pytest ipython matplotlib spyder-kernels terminado gevent pyflakes scikit-image conda-build jupyterlab_server bleach fbprophet sphinx bokeh anaconda-navigator backports.functools_lru_cache flask attrs clyent astroid nltk pygments conda jinja2 cython joblib astropy numba python prompt_toolkit nbconvert networkx nose zope.event conda-verify numpydoc isort notebook pylint xarray dask spacy netcdf4 pystan wheel distributed jupyter_console prompt-toolkit ipywidgets nbformat anaconda-client ipykernel anaconda setuptools soupsieve matplotlib-base jupyterlab arviz python-language-server pip pywinpty:   3%|3         | 12/352 [01:48<59:31, 10.51s/it]  \n",
      "Examining conflict for qtconsole jupyter jupyter_client nbconvert flake8 jupyter_console keyring spyder ipykernel anaconda spyder-kernels notebook entrypoints python-language-server:   3%|3         | 12/352 [01:58<59:31, 10.51s/it]                                                                                                                                                                                                                                                                                                                                                                                                                                                                                                                                                             \n",
      "Examining conflict for qtconsole jupyter jupyter_client nbconvert flake8 jupyter_console keyring spyder ipykernel anaconda spyder-kernels notebook entrypoints python-language-server:   4%|3         | 13/352 [01:58<58:46, 10.40s/it]\n",
      "Examining conflict for nbconvert flake8 jupyter_client entrypoints path.py keyring jsonschema spyder pytest pydocstyle pluggy pylint importlib_metadata python-language-server path:   4%|3         | 13/352 [02:04<58:46, 10.40s/it]  \n",
      "Examining conflict for nbconvert flake8 jupyter_client entrypoints path.py keyring jsonschema spyder pytest pydocstyle pluggy pylint importlib_metadata python-language-server path:   4%|3         | 14/352 [02:04<50:46,  9.01s/it]\n",
      "Examining conflict for pymeeus tblib zope.interface navigator-updater flake8 et_xmlfile pexpect curl jdcal statsmodels werkzeug tbb bottleneck terminado gevent ephem decorator atomicwrites qt prometheus_client hdf5 bleach pytables jpeg itsdangerous toolz freetype ruamel_yaml zlib pygments pillow pyreadline qdarkstyle pyopenssl libsodium boto nbconvert asn1crypto zope.event heapdict zipp vc cloudpickle pep8 numpy-base _ipyw_jlab_nb_ext_conf bitarray pydocstyle backcall libssh2 spacy html5lib rope jupyter_console mpir pywin32-ctypes cffi ipywidgets krb5 console_shortcut pywavelets backports.tempfile snappy zeromq jupyterlab zope python-language-server sympy libarchive packaging python-libarchive-c ply watchdog pathlib2 wcwidth anaconda-project send2trash greenlet jsonschema pytest sqlite lz4-c simplegeneric pyyaml jedi pathtools ujson sqlalchemy certifi pycodestyle scikit-image paramiko unicodecsv sphinx multipledispatch pandas anaconda-navigator py sip pycparser pyparsing pytz attrs nltk keyring mkl_fft snowballstemmer icu partd qtpy intervaltree pkginfo libxslt yaml future mistune autopep8 rtree nose xlsxwriter pynacl lunarcalendar traitlets chardet pylint babel xarray zstd bkcharts webencodings yapf win_unicode_console regex tqdm pysocks cytoolz pandocfilters h5py anaconda-client ipykernel mccabe setuptools win_inet_pton filelock soupsieve widgetsnbextension toml xlwings wincertstore pywinpty qtconsole colorama path.py qtawesome imagesize click parso xz spyder libnetcdf lazy-object-proxy menuinst cftime pycosat spyder-kernels pyqt pluggy powershell_shortcut pyflakes olefile fastcache json5 pywin32 holidays backports.functools_lru_cache kiwisolver backports.weakref typing_extensions clyent libiconv jupyter_core ninja contextlib2 hdf4 python-dateutil blosc dask-core imageio importlib_metadata numba sortedcontainers singledispatch patsy comtypes korean_lunar_calendar more-itertools libtiff defusedxml backports wrapt isort alabaster tk notebook pyodbc python-jsonrpc-server openssl lzo netcdf4 pystan libpng distributed jupyter_client psutil urllib3 sphinxcontrib-websupport msgpack-python wheel nbformat backports.shutil_get_terminal_size pyrsistent idna lxml markupsafe pyzmq pickleshare pip seaborn bcrypt mock scikit-learn bzip2 sphinxcontrib llvmlite ipython matplotlib xlrd zict six conda-build argh beautifulsoup4 requests jupyter bokeh diff-match-patch pycurl numexpr flask docutils astroid mpmath cython jinja2 entrypoints joblib astropy libcurl libxml2 tornado mkl-service prompt_toolkit conda-package-handling networkx scipy cycler conda-verify numpydoc testpath openpyxl glob2 sortedcollections libpython dask ipython_genutils numpy graphviz xmltodict libspatialindex locket cryptography xlwt:   4%|3         | 14/352 [02:04<50:46,  9.01s/it]\n",
      "Examining conflict for pymeeus tblib zope.interface navigator-updater flake8 et_xmlfile pexpect curl jdcal statsmodels werkzeug tbb bottleneck terminado gevent ephem decorator atomicwrites qt prometheus_client hdf5 bleach pytables jpeg itsdangerous toolz freetype ruamel_yaml zlib pygments pillow pyreadline qdarkstyle pyopenssl libsodium boto nbconvert asn1crypto zope.event heapdict zipp vc cloudpickle pep8 numpy-base _ipyw_jlab_nb_ext_conf bitarray pydocstyle backcall libssh2 spacy html5lib rope jupyter_console mpir pywin32-ctypes cffi ipywidgets krb5 console_shortcut pywavelets backports.tempfile snappy zeromq jupyterlab zope python-language-server sympy libarchive packaging python-libarchive-c ply watchdog pathlib2 wcwidth anaconda-project send2trash greenlet jsonschema pytest sqlite lz4-c simplegeneric pyyaml jedi pathtools ujson sqlalchemy certifi pycodestyle scikit-image paramiko unicodecsv sphinx multipledispatch pandas anaconda-navigator py sip pycparser pyparsing pytz attrs nltk keyring mkl_fft snowballstemmer icu partd qtpy intervaltree pkginfo libxslt yaml future mistune autopep8 rtree nose xlsxwriter pynacl lunarcalendar traitlets chardet pylint babel xarray zstd bkcharts webencodings yapf win_unicode_console regex tqdm pysocks cytoolz pandocfilters h5py anaconda-client ipykernel mccabe setuptools win_inet_pton filelock soupsieve widgetsnbextension toml xlwings wincertstore pywinpty qtconsole colorama path.py qtawesome imagesize click parso xz spyder libnetcdf lazy-object-proxy menuinst cftime pycosat spyder-kernels pyqt pluggy powershell_shortcut pyflakes olefile fastcache json5 pywin32 holidays backports.functools_lru_cache kiwisolver backports.weakref typing_extensions clyent libiconv jupyter_core ninja contextlib2 hdf4 python-dateutil blosc dask-core imageio importlib_metadata numba sortedcontainers singledispatch patsy comtypes korean_lunar_calendar more-itertools libtiff defusedxml backports wrapt isort alabaster tk notebook pyodbc python-jsonrpc-server openssl lzo netcdf4 pystan libpng distributed jupyter_client psutil urllib3 sphinxcontrib-websupport msgpack-python wheel nbformat backports.shutil_get_terminal_size pyrsistent idna lxml markupsafe pyzmq pickleshare pip seaborn bcrypt mock scikit-learn bzip2 sphinxcontrib llvmlite ipython matplotlib xlrd zict six conda-build argh beautifulsoup4 requests jupyter bokeh diff-match-patch pycurl numexpr flask docutils astroid mpmath cython jinja2 entrypoints joblib astropy libcurl libxml2 tornado mkl-service prompt_toolkit conda-package-handling networkx scipy cycler conda-verify numpydoc testpath openpyxl glob2 sortedcollections libpython dask ipython_genutils numpy graphviz xmltodict libspatialindex locket cryptography xlwt:   4%|4         | 15/352 [02:04<36:18,  6.46s/it]\n",
      "Examining conflict for flake8 path.py zipp keyring jsonschema importlib-metadata pytest anaconda pluggy importlib_metadata path:   4%|4         | 15/352 [02:14<36:18,  6.46s/it]                                                                                                                                                                                                                                                                                                                                                                                                                                                                                                                                                                                                                                                                                                                                                                                                                                                                                                                                                                                                                                                                                                                                                                                                                                                                                                                                                                                                                                                                                                                                                                                                                                                                                                                                                                                                                                                                                                                                                                                                                                                                                                                                                                                                                                                                                                                                                                                                                                                                                                                                                                                                                                                                                                                \n",
      "Examining conflict for flake8 path.py zipp keyring jsonschema importlib-metadata pytest anaconda pluggy importlib_metadata path:   5%|4         | 16/352 [02:14<40:58,  7.32s/it]\n",
      "Examining conflict for flake8 statsmodels atomicwrites qt hdf5 jpeg itsdangerous qdarkstyle nbconvert heapdict cffi ipywidgets krb5 zope python pytorch ply pathlib2 send2trash pytest lz4-c simplegeneric jedi sip pycparser pyparsing pytz mkl_fft conda gmpy2 yaml autopep8 rtree pynacl pylint win_unicode_console mpfr libllvm9 mccabe win_inet_pton xlwings pywinpty click spyder lazy-object-proxy pyqt sphinxcontrib-qthelp backports.functools_lru_cache clyent ninja blosc dask-core numba libtiff tk pyodbc distributed jupyter_client pyrsistent idna pickleshare ipython matplotlib six pycurl docutils jinja2 astropy libxml2 tornado numpydoc testpath ipython_genutils numpy graphviz pymeeus zope.interface pexpect curl bottleneck winpty pyreadline libsodium boto pep8 _ipyw_jlab_nb_ext_conf html5lib jupyter_console mpc mpir console_shortcut snappy matplotlib-base sympy libarchive python-libarchive-c mkl_random wcwidth greenlet pyyaml pathtools certifi attrs nltk snowballstemmer partd future mistune traitlets liblief bkcharts fsspec yapf anaconda-client ipykernel setuptools filelock qtconsole pycosat pluggy pyflakes kiwisolver backports.weakref typing_extensions imageio patsy backports isort alabaster notebook python-jsonrpc-server sphinxcontrib-serializinghtml libpng psutil urllib3 nbformat scikit-learn bzip2 llvmlite xlrd conda-build bokeh flask astroid libcurl cycler conda-verify xmltodict anaconda cryptography tblib werkzeug terminado ephem prometheus_client pygments pillow pyopenssl zope.event zipp vc cloudpickle bitarray pydocstyle spacy rope prompt-toolkit pywavelets backports.tempfile jupyterlab python-language-server anaconda-project importlib-metadata sqlite ujson pycodestyle sphinx pandas py icu qtpy libxslt xlsxwriter lunarcalendar babel zstd webencodings regex cytoolz pandocfilters sphinxcontrib-applehelp soupsieve widgetsnbextension wincertstore libnetcdf menuinst spyder-kernels olefile json5 pywin32 libiconv jupyter_core contextlib2 hdf4 more-itertools defusedxml python_abi openssl lzo netcdf4 sphinxcontrib-websupport msgpack-python lxml markupsafe pyzmq sphinxcontrib-htmlhelp pip seaborn zict beautifulsoup4 requests mpmath cython entrypoints mkl-service prompt_toolkit vs2015_runtime openpyxl glob2 libspatialindex locket xlwt navigator-updater et_xmlfile sphinxcontrib-jsmath jdcal tbb gevent decorator bleach fbprophet pytables toolz freetype convertdate ruamel_yaml zlib asn1crypto numpy-base backcall libssh2 pywin32-ctypes sphinxcontrib-devhelp zeromq arviz packaging watchdog jsonschema sqlalchemy scikit-image jupyterlab_server paramiko unicodecsv multipledispatch anaconda-navigator keyring intervaltree pkginfo nose chardet xarray tqdm threadpoolctl pysocks h5py toml colorama path.py qtawesome imagesize parso xz cftime powershell_shortcut fastcache path holidays python-dateutil importlib_metadata sortedcontainers singledispatch comtypes korean_lunar_calendar wrapt pystan wheel backports.shutil_get_terminal_size bcrypt mock sphinxcontrib brotlipy argh jupyter diff-match-patch numexpr joblib conda-package-handling networkx scipy py-lief sortedcollections libpython dask:   5%|4         | 16/352 [02:19<40:58,  7.32s/it]\n",
      "Examining conflict for flake8 statsmodels atomicwrites qt hdf5 jpeg itsdangerous qdarkstyle nbconvert heapdict cffi ipywidgets krb5 zope python pytorch ply pathlib2 send2trash pytest lz4-c simplegeneric jedi sip pycparser pyparsing pytz mkl_fft conda gmpy2 yaml autopep8 rtree pynacl pylint win_unicode_console mpfr libllvm9 mccabe win_inet_pton xlwings pywinpty click spyder lazy-object-proxy pyqt sphinxcontrib-qthelp backports.functools_lru_cache clyent ninja blosc dask-core numba libtiff tk pyodbc distributed jupyter_client pyrsistent idna pickleshare ipython matplotlib six pycurl docutils jinja2 astropy libxml2 tornado numpydoc testpath ipython_genutils numpy graphviz pymeeus zope.interface pexpect curl bottleneck winpty pyreadline libsodium boto pep8 _ipyw_jlab_nb_ext_conf html5lib jupyter_console mpc mpir console_shortcut snappy matplotlib-base sympy libarchive python-libarchive-c mkl_random wcwidth greenlet pyyaml pathtools certifi attrs nltk snowballstemmer partd future mistune traitlets liblief bkcharts fsspec yapf anaconda-client ipykernel setuptools filelock qtconsole pycosat pluggy pyflakes kiwisolver backports.weakref typing_extensions imageio patsy backports isort alabaster notebook python-jsonrpc-server sphinxcontrib-serializinghtml libpng psutil urllib3 nbformat scikit-learn bzip2 llvmlite xlrd conda-build bokeh flask astroid libcurl cycler conda-verify xmltodict anaconda cryptography tblib werkzeug terminado ephem prometheus_client pygments pillow pyopenssl zope.event zipp vc cloudpickle bitarray pydocstyle spacy rope prompt-toolkit pywavelets backports.tempfile jupyterlab python-language-server anaconda-project importlib-metadata sqlite ujson pycodestyle sphinx pandas py icu qtpy libxslt xlsxwriter lunarcalendar babel zstd webencodings regex cytoolz pandocfilters sphinxcontrib-applehelp soupsieve widgetsnbextension wincertstore libnetcdf menuinst spyder-kernels olefile json5 pywin32 libiconv jupyter_core contextlib2 hdf4 more-itertools defusedxml python_abi openssl lzo netcdf4 sphinxcontrib-websupport msgpack-python lxml markupsafe pyzmq sphinxcontrib-htmlhelp pip seaborn zict beautifulsoup4 requests mpmath cython entrypoints mkl-service prompt_toolkit vs2015_runtime openpyxl glob2 libspatialindex locket xlwt navigator-updater et_xmlfile sphinxcontrib-jsmath jdcal tbb gevent decorator bleach fbprophet pytables toolz freetype convertdate ruamel_yaml zlib asn1crypto numpy-base backcall libssh2 pywin32-ctypes sphinxcontrib-devhelp zeromq arviz packaging watchdog jsonschema sqlalchemy scikit-image jupyterlab_server paramiko unicodecsv multipledispatch anaconda-navigator keyring intervaltree pkginfo nose chardet xarray tqdm threadpoolctl pysocks h5py toml colorama path.py qtawesome imagesize parso xz cftime powershell_shortcut fastcache path holidays python-dateutil importlib_metadata sortedcontainers singledispatch comtypes korean_lunar_calendar wrapt pystan wheel backports.shutil_get_terminal_size bcrypt mock sphinxcontrib brotlipy argh jupyter diff-match-patch numexpr joblib conda-package-handling networkx scipy py-lief sortedcollections libpython dask:   5%|4         | 17/352 [02:19<37:53,  6.79s/it]\n",
      "Examining conflict for sphinx bokeh flake8 typing_extensions spyder numpydoc python-language-server:   5%|4         | 17/352 [02:35<37:53,  6.79s/it]                                                                                                                                                                                                                                                                                                                                                                                                                                                                                                                                                                                                                                                                                                                                                                                                                                                                                                                                                                                                                                                                                                                                                                                                                                                                                                                                                                                                                                                                                                                                                                                                                                                                                                                                                                                                                                                                                                                                                                                                                                                                                                                                                                                                                                                                                                                                                                                                                                                                                                                                                                                                                                                                                                                                                                                                                                                                                                                                                                                                                                                                                                                                              \n",
      "Examining conflict for sphinx bokeh flake8 typing_extensions spyder numpydoc python-language-server:   5%|5         | 18/352 [02:35<53:35,  9.63s/it]\n",
      "Examining conflict for pymeeus tblib zope.interface navigator-updater flake8 et_xmlfile pexpect sphinxcontrib-jsmath jdcal statsmodels werkzeug bottleneck terminado gevent ephem decorator atomicwrites prometheus_client bleach pytables itsdangerous toolz convertdate ruamel_yaml pygments pillow pyreadline qdarkstyle pyopenssl boto nbconvert asn1crypto zope.event heapdict zipp cloudpickle pep8 numpy-base _ipyw_jlab_nb_ext_conf bitarray pydocstyle backcall spacy html5lib rope jupyter_console pywin32-ctypes cffi ipywidgets console_shortcut prompt-toolkit pywavelets backports.tempfile sphinxcontrib-devhelp matplotlib-base jupyterlab arviz zope python-language-server sympy packaging python-libarchive-c ply watchdog pathlib2 mkl_random wcwidth anaconda-project send2trash greenlet importlib-metadata pytest jsonschema simplegeneric pyyaml pathtools jedi ujson sqlalchemy scikit-image certifi pycodestyle jupyterlab_server paramiko unicodecsv sphinx multipledispatch pandas anaconda-navigator py sip pycparser pyparsing pytz attrs nltk keyring mkl_fft snowballstemmer conda partd qtpy gmpy2 intervaltree pkginfo future mistune autopep8 rtree nose xlsxwriter pynacl lunarcalendar traitlets chardet pylint babel xarray bkcharts fsspec webencodings yapf win_unicode_console regex tqdm threadpoolctl pysocks cytoolz pandocfilters h5py anaconda-client ipykernel sphinxcontrib-applehelp mccabe setuptools win_inet_pton filelock soupsieve widgetsnbextension toml xlwings wincertstore pywinpty qtconsole colorama path.py qtawesome imagesize click parso spyder cftime lazy-object-proxy menuinst pycosat spyder-kernels pyqt pluggy powershell_shortcut pyflakes olefile fastcache sphinxcontrib-qthelp json5 path pywin32 holidays backports.functools_lru_cache kiwisolver backports.weakref typing_extensions clyent jupyter_core ninja contextlib2 python-dateutil dask-core imageio sortedcontainers singledispatch patsy comtypes korean_lunar_calendar more-itertools defusedxml backports wrapt isort alabaster notebook pyodbc python-jsonrpc-server netcdf4 sphinxcontrib-serializinghtml pystan wheel distributed jupyter_client psutil urllib3 sphinxcontrib-websupport msgpack-python nbformat backports.shutil_get_terminal_size pyrsistent idna lxml markupsafe pyzmq sphinxcontrib-htmlhelp pickleshare pip seaborn bcrypt mock scikit-learn sphinxcontrib llvmlite ipython matplotlib xlrd brotlipy zict six conda-build argh beautifulsoup4 requests jupyter bokeh diff-match-patch pycurl numexpr flask docutils astroid mpmath cython jinja2 entrypoints joblib astropy conda-package-handling tornado mkl-service prompt_toolkit networkx scipy cycler conda-verify numpydoc testpath openpyxl glob2 py-lief sortedcollections libpython dask ipython_genutils numpy xmltodict locket cryptography xlwt:   5%|5         | 18/352 [02:36<53:35,  9.63s/it]\n",
      "Examining conflict for pymeeus tblib zope.interface navigator-updater flake8 et_xmlfile pexpect sphinxcontrib-jsmath jdcal statsmodels werkzeug bottleneck terminado gevent ephem decorator atomicwrites prometheus_client bleach pytables itsdangerous toolz convertdate ruamel_yaml pygments pillow pyreadline qdarkstyle pyopenssl boto nbconvert asn1crypto zope.event heapdict zipp cloudpickle pep8 numpy-base _ipyw_jlab_nb_ext_conf bitarray pydocstyle backcall spacy html5lib rope jupyter_console pywin32-ctypes cffi ipywidgets console_shortcut prompt-toolkit pywavelets backports.tempfile sphinxcontrib-devhelp matplotlib-base jupyterlab arviz zope python-language-server sympy packaging python-libarchive-c ply watchdog pathlib2 mkl_random wcwidth anaconda-project send2trash greenlet importlib-metadata pytest jsonschema simplegeneric pyyaml pathtools jedi ujson sqlalchemy scikit-image certifi pycodestyle jupyterlab_server paramiko unicodecsv sphinx multipledispatch pandas anaconda-navigator py sip pycparser pyparsing pytz attrs nltk keyring mkl_fft snowballstemmer conda partd qtpy gmpy2 intervaltree pkginfo future mistune autopep8 rtree nose xlsxwriter pynacl lunarcalendar traitlets chardet pylint babel xarray bkcharts fsspec webencodings yapf win_unicode_console regex tqdm threadpoolctl pysocks cytoolz pandocfilters h5py anaconda-client ipykernel sphinxcontrib-applehelp mccabe setuptools win_inet_pton filelock soupsieve widgetsnbextension toml xlwings wincertstore pywinpty qtconsole colorama path.py qtawesome imagesize click parso spyder cftime lazy-object-proxy menuinst pycosat spyder-kernels pyqt pluggy powershell_shortcut pyflakes olefile fastcache sphinxcontrib-qthelp json5 path pywin32 holidays backports.functools_lru_cache kiwisolver backports.weakref typing_extensions clyent jupyter_core ninja contextlib2 python-dateutil dask-core imageio sortedcontainers singledispatch patsy comtypes korean_lunar_calendar more-itertools defusedxml backports wrapt isort alabaster notebook pyodbc python-jsonrpc-server netcdf4 sphinxcontrib-serializinghtml pystan wheel distributed jupyter_client psutil urllib3 sphinxcontrib-websupport msgpack-python nbformat backports.shutil_get_terminal_size pyrsistent idna lxml markupsafe pyzmq sphinxcontrib-htmlhelp pickleshare pip seaborn bcrypt mock scikit-learn sphinxcontrib llvmlite ipython matplotlib xlrd brotlipy zict six conda-build argh beautifulsoup4 requests jupyter bokeh diff-match-patch pycurl numexpr flask docutils astroid mpmath cython jinja2 entrypoints joblib astropy conda-package-handling tornado mkl-service prompt_toolkit networkx scipy cycler conda-verify numpydoc testpath openpyxl glob2 py-lief sortedcollections libpython dask ipython_genutils numpy xmltodict locket cryptography xlwt:   5%|5         | 19/352 [02:36<38:30,  6.94s/it]\n",
      "Examining conflict for pymeeus tblib zope.interface navigator-updater flake8 et_xmlfile pexpect jdcal statsmodels werkzeug bottleneck terminado gevent ephem decorator atomicwrites qt prometheus_client bleach pytables itsdangerous toolz ruamel_yaml pygments pillow pyreadline qdarkstyle pyopenssl boto nbconvert asn1crypto zope.event heapdict zipp cloudpickle pep8 numpy-base _ipyw_jlab_nb_ext_conf bitarray pydocstyle backcall libssh2 spacy html5lib rope jupyter_console pywin32-ctypes cffi ipywidgets krb5 console_shortcut pywavelets backports.tempfile jupyterlab zope python-language-server python sympy libarchive packaging python-libarchive-c ply watchdog pathlib2 wcwidth anaconda-project send2trash greenlet jsonschema pytest simplegeneric pyyaml pathtools jedi ujson sqlalchemy scikit-image certifi pycodestyle paramiko unicodecsv sphinx multipledispatch pandas anaconda-navigator py sip pycparser pyparsing pytz attrs nltk keyring mkl_fft snowballstemmer partd qtpy intervaltree pkginfo future mistune autopep8 rtree nose xlsxwriter pynacl lunarcalendar traitlets chardet pylint babel xarray bkcharts webencodings yapf win_unicode_console regex tqdm pysocks cytoolz pandocfilters h5py anaconda-client ipykernel mccabe setuptools win_inet_pton filelock soupsieve widgetsnbextension toml xlwings wincertstore pywinpty qtconsole colorama path.py qtawesome imagesize click parso spyder cftime lazy-object-proxy menuinst pycosat spyder-kernels pyqt pluggy powershell_shortcut pyflakes olefile fastcache json5 pywin32 holidays backports.functools_lru_cache kiwisolver backports.weakref typing_extensions clyent jupyter_core ninja contextlib2 python-dateutil dask-core imageio importlib_metadata numba sortedcontainers singledispatch patsy comtypes korean_lunar_calendar ca-certificates more-itertools defusedxml backports wrapt isort alabaster notebook pyodbc python-jsonrpc-server openssl netcdf4 pystan wheel distributed jupyter_client psutil urllib3 sphinxcontrib-websupport msgpack-python nbformat backports.shutil_get_terminal_size pyrsistent idna lxml markupsafe pyzmq pickleshare pip seaborn bcrypt mock scikit-learn sphinxcontrib llvmlite ipython matplotlib xlrd zict six conda-build argh beautifulsoup4 requests jupyter bokeh diff-match-patch pycurl numexpr flask docutils astroid mpmath cython jinja2 entrypoints joblib astropy conda-package-handling tornado mkl-service prompt_toolkit networkx scipy cycler conda-verify numpydoc testpath openpyxl glob2 sortedcollections libpython dask ipython_genutils numpy xmltodict anaconda locket cryptography xlwt:   5%|5         | 19/352 [02:46<38:30,  6.94s/it]                                                                                                                                                                                                         \n",
      "Examining conflict for pymeeus tblib zope.interface navigator-updater flake8 et_xmlfile pexpect jdcal statsmodels werkzeug bottleneck terminado gevent ephem decorator atomicwrites qt prometheus_client bleach pytables itsdangerous toolz ruamel_yaml pygments pillow pyreadline qdarkstyle pyopenssl boto nbconvert asn1crypto zope.event heapdict zipp cloudpickle pep8 numpy-base _ipyw_jlab_nb_ext_conf bitarray pydocstyle backcall libssh2 spacy html5lib rope jupyter_console pywin32-ctypes cffi ipywidgets krb5 console_shortcut pywavelets backports.tempfile jupyterlab zope python-language-server python sympy libarchive packaging python-libarchive-c ply watchdog pathlib2 wcwidth anaconda-project send2trash greenlet jsonschema pytest simplegeneric pyyaml pathtools jedi ujson sqlalchemy scikit-image certifi pycodestyle paramiko unicodecsv sphinx multipledispatch pandas anaconda-navigator py sip pycparser pyparsing pytz attrs nltk keyring mkl_fft snowballstemmer partd qtpy intervaltree pkginfo future mistune autopep8 rtree nose xlsxwriter pynacl lunarcalendar traitlets chardet pylint babel xarray bkcharts webencodings yapf win_unicode_console regex tqdm pysocks cytoolz pandocfilters h5py anaconda-client ipykernel mccabe setuptools win_inet_pton filelock soupsieve widgetsnbextension toml xlwings wincertstore pywinpty qtconsole colorama path.py qtawesome imagesize click parso spyder cftime lazy-object-proxy menuinst pycosat spyder-kernels pyqt pluggy powershell_shortcut pyflakes olefile fastcache json5 pywin32 holidays backports.functools_lru_cache kiwisolver backports.weakref typing_extensions clyent jupyter_core ninja contextlib2 python-dateutil dask-core imageio importlib_metadata numba sortedcontainers singledispatch patsy comtypes korean_lunar_calendar ca-certificates more-itertools defusedxml backports wrapt isort alabaster notebook pyodbc python-jsonrpc-server openssl netcdf4 pystan wheel distributed jupyter_client psutil urllib3 sphinxcontrib-websupport msgpack-python nbformat backports.shutil_get_terminal_size pyrsistent idna lxml markupsafe pyzmq pickleshare pip seaborn bcrypt mock scikit-learn sphinxcontrib llvmlite ipython matplotlib xlrd zict six conda-build argh beautifulsoup4 requests jupyter bokeh diff-match-patch pycurl numexpr flask docutils astroid mpmath cython jinja2 entrypoints joblib astropy conda-package-handling tornado mkl-service prompt_toolkit networkx scipy cycler conda-verify numpydoc testpath openpyxl glob2 sortedcollections libpython dask ipython_genutils numpy xmltodict anaconda locket cryptography xlwt:   6%|5         | 20/352 [02:46<43:13,  7.81s/it]\n",
      "Examining conflict for pymeeus tblib zope.interface navigator-updater flake8 et_xmlfile pexpect sphinxcontrib-jsmath jdcal statsmodels werkzeug bottleneck terminado gevent ephem decorator atomicwrites prometheus_client bleach fbprophet pytables itsdangerous toolz convertdate ruamel_yaml pygments pillow pyreadline qdarkstyle pyopenssl boto nbconvert asn1crypto zope.event heapdict zipp cloudpickle pep8 numpy-base _ipyw_jlab_nb_ext_conf bitarray pydocstyle backcall spacy html5lib rope jupyter_console pywin32-ctypes cffi ipywidgets console_shortcut prompt-toolkit pywavelets backports.tempfile sphinxcontrib-devhelp matplotlib-base jupyterlab arviz zope python-language-server python sympy packaging pytorch ply python-libarchive-c pathlib2 watchdog mkl_random wcwidth anaconda-project send2trash greenlet importlib-metadata pytest jsonschema simplegeneric pyyaml pathtools jedi ujson sqlalchemy scikit-image certifi pycodestyle jupyterlab_server paramiko unicodecsv sphinx multipledispatch pandas anaconda-navigator py sip pycparser pyparsing pytz attrs nltk keyring mkl_fft snowballstemmer conda partd qtpy gmpy2 intervaltree pkginfo future mistune autopep8 rtree nose xlsxwriter pynacl lunarcalendar traitlets chardet pylint babel xarray bkcharts fsspec webencodings yapf win_unicode_console regex tqdm threadpoolctl pysocks cytoolz pandocfilters h5py anaconda-client ipykernel sphinxcontrib-applehelp mccabe setuptools win_inet_pton filelock soupsieve widgetsnbextension toml xlwings wincertstore pywinpty qtconsole colorama path.py qtawesome imagesize click parso spyder cftime lazy-object-proxy menuinst pycosat spyder-kernels pyqt pluggy powershell_shortcut pyflakes olefile fastcache sphinxcontrib-qthelp json5 path pywin32 holidays backports.functools_lru_cache kiwisolver backports.weakref typing_extensions clyent jupyter_core ninja contextlib2 python-dateutil dask-core imageio importlib_metadata numba sortedcontainers singledispatch patsy comtypes korean_lunar_calendar more-itertools defusedxml python_abi backports wrapt isort alabaster notebook pyodbc python-jsonrpc-server netcdf4 sphinxcontrib-serializinghtml pystan wheel distributed jupyter_client psutil urllib3 sphinxcontrib-websupport msgpack-python nbformat backports.shutil_get_terminal_size pyrsistent idna lxml markupsafe pyzmq sphinxcontrib-htmlhelp pickleshare pip seaborn bcrypt mock scikit-learn sphinxcontrib llvmlite ipython matplotlib xlrd brotlipy zict six conda-build argh beautifulsoup4 requests jupyter bokeh diff-match-patch pycurl numexpr flask docutils astroid mpmath cython jinja2 entrypoints joblib astropy conda-package-handling tornado mkl-service prompt_toolkit networkx scipy cycler conda-verify numpydoc testpath openpyxl glob2 py-lief sortedcollections libpython dask ipython_genutils numpy xmltodict anaconda locket cryptography xlwt:   6%|5         | 20/352 [03:01<43:13,  7.81s/it]\n",
      "Examining conflict for pymeeus tblib zope.interface navigator-updater flake8 et_xmlfile pexpect sphinxcontrib-jsmath jdcal statsmodels werkzeug bottleneck terminado gevent ephem decorator atomicwrites prometheus_client bleach fbprophet pytables itsdangerous toolz convertdate ruamel_yaml pygments pillow pyreadline qdarkstyle pyopenssl boto nbconvert asn1crypto zope.event heapdict zipp cloudpickle pep8 numpy-base _ipyw_jlab_nb_ext_conf bitarray pydocstyle backcall spacy html5lib rope jupyter_console pywin32-ctypes cffi ipywidgets console_shortcut prompt-toolkit pywavelets backports.tempfile sphinxcontrib-devhelp matplotlib-base jupyterlab arviz zope python-language-server python sympy packaging pytorch ply python-libarchive-c pathlib2 watchdog mkl_random wcwidth anaconda-project send2trash greenlet importlib-metadata pytest jsonschema simplegeneric pyyaml pathtools jedi ujson sqlalchemy scikit-image certifi pycodestyle jupyterlab_server paramiko unicodecsv sphinx multipledispatch pandas anaconda-navigator py sip pycparser pyparsing pytz attrs nltk keyring mkl_fft snowballstemmer conda partd qtpy gmpy2 intervaltree pkginfo future mistune autopep8 rtree nose xlsxwriter pynacl lunarcalendar traitlets chardet pylint babel xarray bkcharts fsspec webencodings yapf win_unicode_console regex tqdm threadpoolctl pysocks cytoolz pandocfilters h5py anaconda-client ipykernel sphinxcontrib-applehelp mccabe setuptools win_inet_pton filelock soupsieve widgetsnbextension toml xlwings wincertstore pywinpty qtconsole colorama path.py qtawesome imagesize click parso spyder cftime lazy-object-proxy menuinst pycosat spyder-kernels pyqt pluggy powershell_shortcut pyflakes olefile fastcache sphinxcontrib-qthelp json5 path pywin32 holidays backports.functools_lru_cache kiwisolver backports.weakref typing_extensions clyent jupyter_core ninja contextlib2 python-dateutil dask-core imageio importlib_metadata numba sortedcontainers singledispatch patsy comtypes korean_lunar_calendar more-itertools defusedxml python_abi backports wrapt isort alabaster notebook pyodbc python-jsonrpc-server netcdf4 sphinxcontrib-serializinghtml pystan wheel distributed jupyter_client psutil urllib3 sphinxcontrib-websupport msgpack-python nbformat backports.shutil_get_terminal_size pyrsistent idna lxml markupsafe pyzmq sphinxcontrib-htmlhelp pickleshare pip seaborn bcrypt mock scikit-learn sphinxcontrib llvmlite ipython matplotlib xlrd brotlipy zict six conda-build argh beautifulsoup4 requests jupyter bokeh diff-match-patch pycurl numexpr flask docutils astroid mpmath cython jinja2 entrypoints joblib astropy conda-package-handling tornado mkl-service prompt_toolkit networkx scipy cycler conda-verify numpydoc testpath openpyxl glob2 py-lief sortedcollections libpython dask ipython_genutils numpy xmltodict anaconda locket cryptography xlwt:   6%|5         | 21/352 [03:01<55:26, 10.05s/it]\n",
      "Examining conflict for flake8 path.py get_terminal_size ipython matplotlib backports.functools_lru_cache backports.weakref astroid entrypoints importlib_metadata tornado backports conda-verify isort pydocstyle pylint backports.shutil_get_terminal_size backports.tempfile anaconda soupsieve python-language-server pywinpty:   6%|5         | 21/352 [03:18<55:26, 10.05s/it]                                                                                                                                                                                                                                                                                                                                                                                                                                                                                                                                                                                                                                                                                                                                                                                                                                                                                                                                                                                                                                                                                                                                                                                                                                                                                                                                                                                                                                                                                                                                                                                                                                                                                                                                                                                                                                                                                                                                                                                                                                                                                                                                                                                                                                                                                                                                                                                                                                                                                                                                                                                                                   \n",
      "Examining conflict for flake8 path.py get_terminal_size ipython matplotlib backports.functools_lru_cache backports.weakref astroid entrypoints importlib_metadata tornado backports conda-verify isort pydocstyle pylint backports.shutil_get_terminal_size backports.tempfile anaconda soupsieve python-language-server pywinpty:   6%|6         | 22/352 [03:18<1:05:34, 11.92s/it]\n",
      "Examining conflict for flake8 path.py keyring jsonschema spyder importlib-metadata pytest anaconda pluggy importlib_metadata astropy python-language-server path:   6%|6         | 22/352 [03:23<1:05:34, 11.92s/it]                                                                                                                                                                 \n",
      "Examining conflict for flake8 path.py keyring jsonschema spyder importlib-metadata pytest anaconda pluggy importlib_metadata astropy python-language-server path:   7%|6         | 23/352 [03:23<55:25, 10.11s/it]  \n",
      "Examining conflict for qtconsole flake8 llvmlite ipython scikit-image conda-build paramiko attrs astroid jupyter_core imageio pyopenssl numba nbconvert traitlets notebook pylint jupyter_client urllib3 ipywidgets nbformat ipykernel cryptography python-language-server:   7%|6         | 23/352 [03:30<55:25, 10.11s/it]\n",
      "Examining conflict for qtconsole flake8 llvmlite ipython scikit-image conda-build paramiko attrs astroid jupyter_core imageio pyopenssl numba nbconvert traitlets notebook pylint jupyter_client urllib3 ipywidgets nbformat ipykernel cryptography python-language-server:   7%|6         | 24/352 [03:30<48:50,  8.94s/it]\n",
      "Examining conflict for seaborn anaconda statsmodels:   7%|6         | 24/352 [03:31<48:50,  8.94s/it]                                                                                                                                                                                                                       \n",
      "Examining conflict for seaborn anaconda statsmodels:   7%|7         | 25/352 [03:31<35:41,  6.55s/it]\n",
      "Examining conflict for seaborn pytorch scikit-learn mkl_random cftime matplotlib statsmodels bottleneck scikit-image fbprophet pytables bokeh pandas numexpr nltk mkl_fft imageio astropy numba mkl-service patsy scipy numpy-base xarray dask spacy bkcharts netcdf4 pystan numpy h5py pywavelets anaconda matplotlib-base arviz:   7%|7         | 25/352 [03:36<35:41,  6.55s/it]\n",
      "Examining conflict for seaborn pytorch scikit-learn mkl_random cftime matplotlib statsmodels bottleneck scikit-image fbprophet pytables bokeh pandas numexpr nltk mkl_fft imageio astropy numba mkl-service patsy scipy numpy-base xarray dask spacy bkcharts netcdf4 pystan numpy h5py pywavelets anaconda matplotlib-base arviz:   7%|7         | 26/352 [03:36<33:40,  6.20s/it]\n",
      "Examining conflict for qtconsole seaborn anaconda-project matplotlib statsmodels spyder-kernels scikit-image fbprophet bokeh pandas anaconda-navigator holidays nltk python-dateutil nbconvert lunarcalendar notebook xarray dask bkcharts pystan jupyter_client jupyter_console anaconda-client ipykernel anaconda matplotlib-base arviz:   7%|7         | 26/352 [03:49<33:40,  6.20s/it]\n",
      "Examining conflict for qtconsole seaborn anaconda-project matplotlib statsmodels spyder-kernels scikit-image fbprophet bokeh pandas anaconda-navigator holidays nltk python-dateutil nbconvert lunarcalendar notebook xarray dask bkcharts pystan jupyter_client jupyter_console anaconda-client ipykernel anaconda matplotlib-base arviz:   8%|7         | 27/352 [03:49<44:52,  8.28s/it]\n",
      "Examining conflict for seaborn pytorch scikit-learn mkl_random cftime matplotlib statsmodels bottleneck scikit-image fbprophet pytables bokeh pandas numexpr nltk mkl_fft imageio astropy numba mkl-service patsy scipy numpy-base xarray dask spacy bkcharts netcdf4 pystan numpy mkl h5py pywavelets anaconda matplotlib-base arviz:   8%|7         | 27/352 [04:01<44:52,  8.28s/it]    \n",
      "Examining conflict for seaborn pytorch scikit-learn mkl_random cftime matplotlib statsmodels bottleneck scikit-image fbprophet pytables bokeh pandas numexpr nltk mkl_fft imageio astropy numba mkl-service patsy scipy numpy-base xarray dask spacy bkcharts netcdf4 pystan numpy mkl h5py pywavelets anaconda matplotlib-base arviz:   8%|7         | 28/352 [04:01<50:45,  9.40s/it]\n",
      "Examining conflict for seaborn pystan bokeh pandas xarray anaconda statsmodels scikit-image arviz dask fbprophet bkcharts:   8%|7         | 28/352 [04:14<50:45,  9.40s/it]                                                                                                                                                                                                            \n",
      "Examining conflict for seaborn pystan bokeh pandas xarray anaconda statsmodels scikit-image arviz dask fbprophet bkcharts:   8%|8         | 29/352 [04:14<56:50, 10.56s/it]\n",
      "Examining conflict for seaborn pytorch scikit-learn mkl_random cftime matplotlib statsmodels bottleneck scikit-image fbprophet pytables bokeh pandas numexpr nltk mkl_fft imageio astropy numba mkl-service patsy scipy numpy-base xarray dask spacy bkcharts netcdf4 pystan numpy h5py pywavelets anaconda matplotlib-base arviz blas:   8%|8         | 29/352 [04:23<56:50, 10.56s/it]\n",
      "Examining conflict for seaborn pytorch scikit-learn mkl_random cftime matplotlib statsmodels bottleneck scikit-image fbprophet pytables bokeh pandas numexpr nltk mkl_fft imageio astropy numba mkl-service patsy scipy numpy-base xarray dask spacy bkcharts netcdf4 pystan numpy h5py pywavelets anaconda matplotlib-base arviz blas:   9%|8         | 30/352 [04:23<53:47, 10.02s/it]\n",
      "Examining conflict for seaborn pytorch scikit-learn mkl_random cftime matplotlib statsmodels bottleneck scikit-image fbprophet pytables bokeh pandas numexpr nltk mkl_fft imageio astropy numba mkl-service patsy scipy xarray dask spacy bkcharts netcdf4 pystan numpy h5py pywavelets anaconda matplotlib-base arviz:   9%|8         | 30/352 [04:36<53:47, 10.02s/it]                \n",
      "Examining conflict for seaborn pytorch scikit-learn mkl_random cftime matplotlib statsmodels bottleneck scikit-image fbprophet pytables bokeh pandas numexpr nltk mkl_fft imageio astropy numba mkl-service patsy scipy xarray dask spacy bkcharts netcdf4 pystan numpy h5py pywavelets anaconda matplotlib-base arviz:   9%|8         | 31/352 [04:36<57:50, 10.81s/it]\n",
      "Examining conflict for seaborn patsy statsmodels anaconda:   9%|8         | 31/352 [04:49<57:50, 10.81s/it]                                                                                                                                                                                                                                                             \n",
      "Examining conflict for seaborn patsy statsmodels anaconda:   9%|9         | 32/352 [04:49<1:00:45, 11.39s/it]\n",
      "Examining conflict for seaborn pytorch scikit-learn mkl_random libnetcdf cftime matplotlib statsmodels bottleneck scikit-image fbprophet hdf5 pytables bokeh pandas numexpr nltk mkl_fft imageio astropy numba mkl-service patsy scipy icc_rt numpy-base xarray dask spacy bkcharts netcdf4 pystan numpy h5py pywavelets anaconda matplotlib-base arviz:   9%|9         | 32/352 [04:55<1:00:45, 11.39s/it]\n",
      "Examining conflict for seaborn pytorch scikit-learn mkl_random libnetcdf cftime matplotlib statsmodels bottleneck scikit-image fbprophet hdf5 pytables bokeh pandas numexpr nltk mkl_fft imageio astropy numba mkl-service patsy scipy icc_rt numpy-base xarray dask spacy bkcharts netcdf4 pystan numpy h5py pywavelets anaconda matplotlib-base arviz:   9%|9         | 33/352 [04:55<52:12,  9.82s/it]  \n",
      "Examining conflict for seaborn patsy pystan scikit-learn scipy nltk anaconda statsmodels scikit-image arviz fbprophet:   9%|9         | 33/352 [05:08<52:12,  9.82s/it]                                                                                                                                                                                                                                  \n",
      "Examining conflict for seaborn patsy pystan scikit-learn scipy nltk anaconda statsmodels scikit-image arviz fbprophet:  10%|9         | 34/352 [05:08<58:15, 10.99s/it]\n",
      "Examining conflict for seaborn anaconda-project matplotlib statsmodels scikit-image conda-build fbprophet sphinx bokeh pandas anaconda-navigator holidays convertdate pytz nltk lunarcalendar babel xarray dask bkcharts pystan anaconda-client anaconda arviz:  10%|9         | 34/352 [05:15<58:15, 10.99s/it]\n",
      "Examining conflict for seaborn anaconda-project matplotlib statsmodels scikit-image conda-build fbprophet sphinx bokeh pandas anaconda-navigator holidays convertdate pytz nltk lunarcalendar babel xarray dask bkcharts pystan anaconda-client anaconda arviz:  10%|9         | 35/352 [05:15<50:50,  9.62s/it]\n",
      "Examining conflict for statsmodels bleach fbprophet pytables pyopenssl nbconvert zipp numpy-base pydocstyle spacy html5lib jupyter_console prompt-toolkit ipywidgets matplotlib-base arviz python-language-server packaging pytorch pathlib2 mkl_random anaconda-project jsonschema pytest scikit-image jupyterlab_server paramiko sphinx multipledispatch pandas anaconda-navigator nltk mkl_fft conda pynacl lunarcalendar traitlets pylint bkcharts h5py anaconda-client ipykernel qtconsole qtawesome spyder holidays jupyter_core python-dateutil importlib_metadata numba singledispatch patsy more-itertools notebook distributed jupyter_client urllib3 nbformat pyrsistent pickleshare pip seaborn bcrypt mock scikit-learn ipython matplotlib six conda-build bokeh numexpr astroid astropy conda-package-handling tornado mkl-service prompt_toolkit scipy cycler conda-verify numpydoc testpath dask numpy anaconda cryptography:  10%|9         | 35/352 [05:25<50:50,  9.62s/it]\n",
      "Examining conflict for statsmodels bleach fbprophet pytables pyopenssl nbconvert zipp numpy-base pydocstyle spacy html5lib jupyter_console prompt-toolkit ipywidgets matplotlib-base arviz python-language-server packaging pytorch pathlib2 mkl_random anaconda-project jsonschema pytest scikit-image jupyterlab_server paramiko sphinx multipledispatch pandas anaconda-navigator nltk mkl_fft conda pynacl lunarcalendar traitlets pylint bkcharts h5py anaconda-client ipykernel qtconsole qtawesome spyder holidays jupyter_core python-dateutil importlib_metadata numba singledispatch patsy more-itertools notebook distributed jupyter_client urllib3 nbformat pyrsistent pickleshare pip seaborn bcrypt mock scikit-learn ipython matplotlib six conda-build bokeh numexpr astroid astropy conda-package-handling tornado mkl-service prompt_toolkit scipy cycler conda-verify numpydoc testpath dask numpy anaconda cryptography:  10%|#         | 36/352 [05:25<51:42,  9.82s/it]\n",
      "Examining conflict for qtconsole navigator-updater anaconda-navigator spyder matplotlib anaconda pyqt qt:  10%|#         | 36/352 [05:38<51:42,  9.82s/it]                                                                                                                                                                                                                                                                                                                                                                                                                                                                                                                                                                                                                                                                                                                                                                                                                                    \n",
      "Examining conflict for qtconsole navigator-updater anaconda-navigator spyder matplotlib anaconda pyqt qt:  11%|#         | 37/352 [05:38<56:39, 10.79s/it]\n",
      "Examining conflict for seaborn libarchive python-libarchive-c curl libnetcdf llvmlite matplotlib sqlite pyqt scikit-image conda-build qt fbprophet hdf5 pytables bokeh anaconda-navigator pycurl freetype nltk zlib hdf4 blosc pillow imageio numba libxml2 libcurl libxslt lxml conda-package-handling libtiff zstd netcdf4 pystan libpng h5py anaconda matplotlib-base arviz python:  11%|#         | 37/352 [05:44<56:39, 10.79s/it]\n",
      "Examining conflict for seaborn libarchive python-libarchive-c curl libnetcdf llvmlite matplotlib sqlite pyqt scikit-image conda-build qt fbprophet hdf5 pytables bokeh anaconda-navigator pycurl freetype nltk zlib hdf4 blosc pillow imageio numba libxml2 libcurl libxslt lxml conda-package-handling libtiff zstd netcdf4 pystan libpng h5py anaconda matplotlib-base arviz python:  11%|#         | 38/352 [05:44<48:51,  9.33s/it]\n",
      "Examining conflict for jpeg bokeh anaconda-navigator libtiff imageio libnetcdf anaconda hdf4 pillow pyqt matplotlib-base scikit-image qt netcdf4:  11%|#         | 38/352 [05:52<48:51,  9.33s/it]                                                                                                                                                                                                                                     \n",
      "Examining conflict for jpeg bokeh anaconda-navigator libtiff imageio libnetcdf anaconda hdf4 pillow pyqt matplotlib-base scikit-image qt netcdf4:  11%|#1        | 39/352 [05:52<45:39,  8.75s/it]\n",
      "Examining conflict for anaconda qt icu pyqt:  11%|#1        | 39/352 [05:58<45:39,  8.75s/it]                                                                                                     \n",
      "Examining conflict for anaconda qt icu pyqt:  11%|#1        | 40/352 [05:58<41:35,  8.00s/it]\n",
      "Examining conflict for seaborn libpng pystan bokeh freetype nltk matplotlib anaconda pillow pyqt matplotlib-base scikit-image arviz qt fbprophet:  11%|#1        | 40/352 [06:03<41:35,  8.00s/it]\n",
      "Examining conflict for seaborn libpng pystan bokeh freetype nltk matplotlib anaconda pillow pyqt matplotlib-base scikit-image arviz qt fbprophet:  12%|#1        | 41/352 [06:03<37:25,  7.22s/it]\n",
      "Examining conflict for spyder pytest anaconda astropy atomicwrites:  12%|#1        | 41/352 [06:11<37:25,  7.22s/it]                                                                              \n",
      "Examining conflict for spyder pytest anaconda astropy atomicwrites:  12%|#1        | 42/352 [06:11<38:11,  7.39s/it]\n",
      "Examining conflict for h5py libnetcdf anaconda arviz hdf5 pytables netcdf4:  12%|#1        | 42/352 [06:17<38:11,  7.39s/it]\n",
      "Examining conflict for h5py libnetcdf anaconda arviz hdf5 pytables netcdf4:  12%|#2        | 43/352 [06:17<36:41,  7.12s/it]\n",
      "Examining conflict for flask anaconda itsdangerous:  12%|#2        | 43/352 [06:23<36:41,  7.12s/it]                        \n",
      "Examining conflict for flask anaconda itsdangerous:  12%|#2        | 44/352 [06:23<34:21,  6.69s/it]\n",
      "Examining conflict for qdarkstyle anaconda spyder:  12%|#2        | 44/352 [06:28<34:21,  6.69s/it] \n",
      "Examining conflict for qdarkstyle anaconda spyder:  13%|#2        | 45/352 [06:28<32:07,  6.28s/it]\n",
      "Examining conflict for jupyter nbconvert spyder anaconda notebook jupyterlab widgetsnbextension jupyterlab_server:  13%|#2        | 45/352 [06:34<32:07,  6.28s/it]\n",
      "Examining conflict for jupyter nbconvert spyder anaconda notebook jupyterlab widgetsnbextension jupyterlab_server:  13%|#3        | 46/352 [06:34<31:10,  6.11s/it]\n",
      "Examining conflict for qtconsole sphinx prompt_toolkit nbconvert jupyter jupyter_console prompt-toolkit ipywidgets spyder numpydoc ipython ipykernel anaconda pygments spyder-kernels notebook:  13%|#3        | 46/352 [06:41<31:10,  6.11s/it]\n",
      "Examining conflict for qtconsole sphinx prompt_toolkit nbconvert jupyter jupyter_console prompt-toolkit ipywidgets spyder numpydoc ipython ipykernel anaconda pygments spyder-kernels notebook:  13%|#3        | 47/352 [06:41<31:35,  6.21s/it]\n",
      "Examining conflict for bcrypt bleach nbconvert anaconda python pip spacy html5lib:  13%|#3        | 47/352 [06:46<31:35,  6.21s/it]                                                                                                             \n",
      "Examining conflict for bcrypt bleach nbconvert anaconda python pip spacy html5lib:  14%|#3        | 48/352 [06:46<30:55,  6.10s/it]\n",
      "Examining conflict for jupyter nbconvert anaconda-navigator anaconda-project ipywidgets nbformat spyder anaconda-client anaconda _ipyw_jlab_nb_ext_conf notebook jupyterlab widgetsnbextension jupyterlab_server:  14%|#3        | 48/352 [06:47<30:55,  6.10s/it]\n",
      "Examining conflict for jupyter nbconvert anaconda-navigator anaconda-project ipywidgets nbformat spyder anaconda-client anaconda _ipyw_jlab_nb_ext_conf notebook jupyterlab widgetsnbextension jupyterlab_server:  14%|#3        | 49/352 [06:47<22:01,  4.36s/it]\n",
      "Examining conflict for jupyter nbconvert notebook spyder:  14%|#3        | 49/352 [06:53<22:01,  4.36s/it]                                                                                                                                                        \n",
      "Examining conflict for jupyter nbconvert notebook spyder:  14%|#4        | 50/352 [06:53<24:34,  4.88s/it]\n",
      "Examining conflict for jupyter nbconvert pandoc spyder anaconda notebook:  14%|#4        | 50/352 [06:53<24:34,  4.88s/it]\n",
      "Examining conflict for jupyter nbconvert pandoc spyder anaconda notebook:  14%|#4        | 51/352 [06:53<17:54,  3.57s/it]\n",
      "Examining conflict for qtconsole spyder ipython spyder-kernels jupyterlab_server jupyter jupyter_core nbconvert traitlets _ipyw_jlab_nb_ext_conf notebook jupyter_client jupyter_console ipywidgets nbformat anaconda-client ipykernel anaconda jupyterlab widgetsnbextension:  14%|#4        | 51/352 [06:59<17:54,  3.57s/it]\n",
      "Examining conflict for qtconsole spyder ipython spyder-kernels jupyterlab_server jupyter jupyter_core nbconvert traitlets _ipyw_jlab_nb_ext_conf notebook jupyter_client jupyter_console ipywidgets nbformat anaconda-client ipykernel anaconda jupyterlab widgetsnbextension:  15%|#4        | 52/352 [06:59<21:08,  4.23s/it]\n",
      "Examining conflict for jupyter nbconvert spyder anaconda notebook bleach:  15%|#4        | 52/352 [07:05<21:08,  4.23s/it]                                                                                                                                                                                                     \n",
      "Examining conflict for jupyter nbconvert spyder anaconda notebook bleach:  15%|#5        | 53/352 [07:05<23:45,  4.77s/it]\n"
     ]
    }
   ],
   "source": [
    "conda install nltk spacy"
   ]
  },
  {
   "cell_type": "code",
   "execution_count": null,
   "metadata": {},
   "outputs": [],
   "source": [
    "python -m spacy download en"
   ]
  },
  {
   "cell_type": "code",
   "execution_count": null,
   "metadata": {},
   "outputs": [],
   "source": [
    "import spacy\n",
    "print('spacy 버전 : spacy.__version__')\n",
    "import nltk\n",
    "print('nltk 버전 : nltk.__version__')"
   ]
  },
  {
   "cell_type": "code",
   "execution_count": null,
   "metadata": {},
   "outputs": [],
   "source": [
    "import nltk\n",
    "import spacy\n",
    "\n",
    "en_help = spacy.load('en')\n",
    "stemmer = nltk.PorterStemmer()\n",
    "\n",
    "def compare_normalization(doc):\n",
    "    doc_spacy = en_nlp(doc)\n",
    "    print('표제어 : ')\n",
    "    print([token.lemma_ for token in doc_apcy])\n",
    "    \n",
    "    print('어간 : ')\n",
    "    print([stemmer.stem(token.norm_.lower()) for token in doc_spacy])"
   ]
  },
  {
   "cell_type": "code",
   "execution_count": null,
   "metadata": {},
   "outputs": [],
   "source": [
    "compare_normalization(u\"Our meeting today was worse than yesterday, \"\n",
    "                       \"I'm scared of meeting the clients tomorrow.\")"
   ]
  },
  {
   "cell_type": "code",
   "execution_count": null,
   "metadata": {},
   "outputs": [],
   "source": [
    "en_nlp = spacy.load('en', disable=['parser', 'ner'])\n",
    "\n",
    "def custom_tokenizer(document):\n",
    "    doc_spacy = en_nlp(document)\n",
    "    return [token.lemma_ for token in doc_spacy]\n",
    "\n",
    "lemma_vect = Countvectorizer(tokenizer=custom_tokenizer, min_df=5)"
   ]
  },
  {
   "cell_type": "code",
   "execution_count": null,
   "metadata": {},
   "outputs": [],
   "source": [
    "pip install --upgrade pip"
   ]
  },
  {
   "cell_type": "code",
   "execution_count": null,
   "metadata": {},
   "outputs": [],
   "source": []
  }
 ],
 "metadata": {
  "kernelspec": {
   "display_name": "Python 3",
   "language": "python",
   "name": "python3"
  },
  "language_info": {
   "codemirror_mode": {
    "name": "ipython",
    "version": 3
   },
   "file_extension": ".py",
   "mimetype": "text/x-python",
   "name": "python",
   "nbconvert_exporter": "python",
   "pygments_lexer": "ipython3",
   "version": "3.8.3"
  }
 },
 "nbformat": 4,
 "nbformat_minor": 4
}
